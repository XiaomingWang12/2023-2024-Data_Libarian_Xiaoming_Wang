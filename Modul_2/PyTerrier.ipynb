{
 "cells": [
  {
   "cell_type": "code",
   "execution_count": 1,
   "id": "6ba8c12f",
   "metadata": {},
   "outputs": [
    {
     "name": "stdout",
     "output_type": "stream",
     "text": [
      "Collecting python-terrier\n",
      "  Using cached python_terrier-0.10.0-py3-none-any.whl\n",
      "Requirement already satisfied: numpy in /home/xiaoming/anaconda3/lib/python3.11/site-packages (from python-terrier) (1.24.3)\n",
      "Requirement already satisfied: pandas in /home/xiaoming/anaconda3/lib/python3.11/site-packages (from python-terrier) (2.0.3)\n",
      "Collecting wget (from python-terrier)\n",
      "  Using cached wget-3.2-py3-none-any.whl\n",
      "Requirement already satisfied: tqdm in /home/xiaoming/anaconda3/lib/python3.11/site-packages (from python-terrier) (4.65.0)\n",
      "Collecting pyjnius>=1.4.2 (from python-terrier)\n",
      "  Obtaining dependency information for pyjnius>=1.4.2 from https://files.pythonhosted.org/packages/4b/e5/cdfd7dc6e26aa858e9d01c9d2b11e9c6f524d7e0a334693eaecbcce37102/pyjnius-1.6.1-cp311-cp311-manylinux_2_17_x86_64.manylinux2014_x86_64.whl.metadata\n",
      "  Using cached pyjnius-1.6.1-cp311-cp311-manylinux_2_17_x86_64.manylinux2014_x86_64.whl.metadata (10 kB)\n",
      "Collecting matchpy (from python-terrier)\n",
      "  Using cached matchpy-0.5.5-py3-none-any.whl (69 kB)\n",
      "Requirement already satisfied: scikit-learn in /home/xiaoming/anaconda3/lib/python3.11/site-packages (from python-terrier) (1.3.0)\n",
      "Collecting deprecated (from python-terrier)\n",
      "  Obtaining dependency information for deprecated from https://files.pythonhosted.org/packages/20/8d/778b7d51b981a96554f29136cd59ca7880bf58094338085bcf2a979a0e6a/Deprecated-1.2.14-py2.py3-none-any.whl.metadata\n",
      "  Using cached Deprecated-1.2.14-py2.py3-none-any.whl.metadata (5.4 kB)\n",
      "Collecting chest (from python-terrier)\n",
      "  Using cached chest-0.2.3-py3-none-any.whl\n",
      "Requirement already satisfied: scipy in /home/xiaoming/anaconda3/lib/python3.11/site-packages (from python-terrier) (1.11.1)\n",
      "Requirement already satisfied: requests in /home/xiaoming/anaconda3/lib/python3.11/site-packages (from python-terrier) (2.31.0)\n",
      "Requirement already satisfied: joblib in /home/xiaoming/anaconda3/lib/python3.11/site-packages (from python-terrier) (1.2.0)\n",
      "Collecting nptyping==1.4.4 (from python-terrier)\n",
      "  Using cached nptyping-1.4.4-py3-none-any.whl (31 kB)\n",
      "Requirement already satisfied: more-itertools in /home/xiaoming/anaconda3/lib/python3.11/site-packages (from python-terrier) (8.12.0)\n",
      "Collecting ir-datasets>=0.3.2 (from python-terrier)\n",
      "  Obtaining dependency information for ir-datasets>=0.3.2 from https://files.pythonhosted.org/packages/f3/a8/25cb30f3579004671dc6b478d2e8372c42e2ff77ecb27acee01233b7d99f/ir_datasets-0.5.5-py3-none-any.whl.metadata\n",
      "  Using cached ir_datasets-0.5.5-py3-none-any.whl.metadata (12 kB)\n",
      "Requirement already satisfied: jinja2 in /home/xiaoming/anaconda3/lib/python3.11/site-packages (from python-terrier) (3.1.2)\n",
      "Requirement already satisfied: statsmodels in /home/xiaoming/anaconda3/lib/python3.11/site-packages (from python-terrier) (0.14.0)\n",
      "Collecting ir-measures>=0.3.1 (from python-terrier)\n",
      "  Using cached ir_measures-0.3.3-py3-none-any.whl\n",
      "Requirement already satisfied: dill in /home/xiaoming/anaconda3/lib/python3.11/site-packages (from python-terrier) (0.3.6)\n",
      "Collecting pytrec-eval-terrier>=0.5.3 (from python-terrier)\n",
      "  Obtaining dependency information for pytrec-eval-terrier>=0.5.3 from https://files.pythonhosted.org/packages/ce/be/a50baa537bbcd4e437a0a064bfd083d858e74eee7b91ecc17514576dd240/pytrec_eval_terrier-0.5.6-cp311-cp311-manylinux_2_17_x86_64.manylinux2014_x86_64.whl.metadata\n",
      "  Using cached pytrec_eval_terrier-0.5.6-cp311-cp311-manylinux_2_17_x86_64.manylinux2014_x86_64.whl.metadata (777 bytes)\n",
      "Collecting typish>=1.7.0 (from nptyping==1.4.4->python-terrier)\n",
      "  Using cached typish-1.9.3-py3-none-any.whl (45 kB)\n",
      "Requirement already satisfied: beautifulsoup4>=4.4.1 in /home/xiaoming/anaconda3/lib/python3.11/site-packages (from ir-datasets>=0.3.2->python-terrier) (4.12.2)\n",
      "Collecting inscriptis>=2.2.0 (from ir-datasets>=0.3.2->python-terrier)\n",
      "  Obtaining dependency information for inscriptis>=2.2.0 from https://files.pythonhosted.org/packages/de/17/6340c3d3e4aeb749531cafeee412b32fd56330ed453b01d1fa17f41a96c7/inscriptis-2.4.0.1-py3-none-any.whl.metadata\n",
      "  Using cached inscriptis-2.4.0.1-py3-none-any.whl.metadata (25 kB)\n",
      "Requirement already satisfied: lxml>=4.5.2 in /home/xiaoming/anaconda3/lib/python3.11/site-packages (from ir-datasets>=0.3.2->python-terrier) (4.9.3)\n",
      "Requirement already satisfied: pyyaml>=5.3.1 in /home/xiaoming/anaconda3/lib/python3.11/site-packages (from ir-datasets>=0.3.2->python-terrier) (6.0)\n",
      "Collecting trec-car-tools>=2.5.4 (from ir-datasets>=0.3.2->python-terrier)\n",
      "  Using cached trec_car_tools-2.6-py3-none-any.whl (8.4 kB)\n",
      "Requirement already satisfied: lz4>=3.1.10 in /home/xiaoming/anaconda3/lib/python3.11/site-packages (from ir-datasets>=0.3.2->python-terrier) (4.3.2)\n",
      "Collecting warc3-wet>=0.2.3 (from ir-datasets>=0.3.2->python-terrier)\n",
      "  Using cached warc3_wet-0.2.3-py3-none-any.whl (13 kB)\n",
      "Collecting warc3-wet-clueweb09>=0.2.5 (from ir-datasets>=0.3.2->python-terrier)\n",
      "  Using cached warc3_wet_clueweb09-0.2.5-py3-none-any.whl\n",
      "Collecting zlib-state>=0.1.3 (from ir-datasets>=0.3.2->python-terrier)\n",
      "  Using cached zlib-state-0.1.6.tar.gz (9.5 kB)\n",
      "  Installing build dependencies ... \u001b[?25ldone\n",
      "\u001b[?25h  Getting requirements to build wheel ... \u001b[?25ldone\n",
      "\u001b[?25h  Installing backend dependencies ... \u001b[?25ldone\n",
      "\u001b[?25h  Preparing metadata (pyproject.toml) ... \u001b[?25ldone\n",
      "\u001b[?25hCollecting ijson>=3.1.3 (from ir-datasets>=0.3.2->python-terrier)\n",
      "  Obtaining dependency information for ijson>=3.1.3 from https://files.pythonhosted.org/packages/2c/cb/8deea644d652eef65b8a7105d11b1b9df812306b59b115c3d42b34764320/ijson-3.2.3-cp311-cp311-manylinux_2_17_x86_64.manylinux2014_x86_64.whl.metadata\n",
      "  Using cached ijson-3.2.3-cp311-cp311-manylinux_2_17_x86_64.manylinux2014_x86_64.whl.metadata (20 kB)\n",
      "Collecting pyautocorpus>=0.1.1 (from ir-datasets>=0.3.2->python-terrier)\n",
      "  Obtaining dependency information for pyautocorpus>=0.1.1 from https://files.pythonhosted.org/packages/56/dd/8450f09ef4b597f505bc47460c6179fd700e7e53c1d9381f923384282ea0/pyautocorpus-0.1.12-cp311-cp311-manylinux_2_17_x86_64.manylinux2014_x86_64.whl.metadata\n",
      "  Using cached pyautocorpus-0.1.12-cp311-cp311-manylinux_2_17_x86_64.manylinux2014_x86_64.whl.metadata (1.6 kB)\n",
      "Collecting unlzw3>=0.2.1 (from ir-datasets>=0.3.2->python-terrier)\n",
      "  Using cached unlzw3-0.2.2-py3-none-any.whl (6.1 kB)\n",
      "Collecting cwl-eval>=1.0.10 (from ir-measures>=0.3.1->python-terrier)\n",
      "  Using cached cwl_eval-1.0.12-py3-none-any.whl\n",
      "Requirement already satisfied: charset-normalizer<4,>=2 in /home/xiaoming/anaconda3/lib/python3.11/site-packages (from requests->python-terrier) (2.0.4)\n",
      "Requirement already satisfied: idna<4,>=2.5 in /home/xiaoming/anaconda3/lib/python3.11/site-packages (from requests->python-terrier) (3.4)\n",
      "Requirement already satisfied: urllib3<3,>=1.21.1 in /home/xiaoming/anaconda3/lib/python3.11/site-packages (from requests->python-terrier) (1.26.16)\n",
      "Requirement already satisfied: certifi>=2017.4.17 in /home/xiaoming/anaconda3/lib/python3.11/site-packages (from requests->python-terrier) (2023.7.22)\n",
      "Requirement already satisfied: heapdict in /home/xiaoming/anaconda3/lib/python3.11/site-packages (from chest->python-terrier) (1.0.1)\n",
      "Requirement already satisfied: wrapt<2,>=1.10 in /home/xiaoming/anaconda3/lib/python3.11/site-packages (from deprecated->python-terrier) (1.14.1)\n",
      "Requirement already satisfied: MarkupSafe>=2.0 in /home/xiaoming/anaconda3/lib/python3.11/site-packages (from jinja2->python-terrier) (2.1.1)\n",
      "Collecting multiset<3.0,>=2.0 (from matchpy->python-terrier)\n",
      "  Using cached multiset-2.1.1-py2.py3-none-any.whl (8.8 kB)\n",
      "Requirement already satisfied: python-dateutil>=2.8.2 in /home/xiaoming/anaconda3/lib/python3.11/site-packages (from pandas->python-terrier) (2.8.2)\n",
      "Requirement already satisfied: pytz>=2020.1 in /home/xiaoming/anaconda3/lib/python3.11/site-packages (from pandas->python-terrier) (2023.3.post1)\n",
      "Requirement already satisfied: tzdata>=2022.1 in /home/xiaoming/anaconda3/lib/python3.11/site-packages (from pandas->python-terrier) (2023.3)\n",
      "Requirement already satisfied: threadpoolctl>=2.0.0 in /home/xiaoming/anaconda3/lib/python3.11/site-packages (from scikit-learn->python-terrier) (2.2.0)\n",
      "Requirement already satisfied: patsy>=0.5.2 in /home/xiaoming/anaconda3/lib/python3.11/site-packages (from statsmodels->python-terrier) (0.5.3)\n",
      "Requirement already satisfied: packaging>=21.3 in /home/xiaoming/anaconda3/lib/python3.11/site-packages (from statsmodels->python-terrier) (23.1)\n"
     ]
    },
    {
     "name": "stdout",
     "output_type": "stream",
     "text": [
      "Requirement already satisfied: soupsieve>1.2 in /home/xiaoming/anaconda3/lib/python3.11/site-packages (from beautifulsoup4>=4.4.1->ir-datasets>=0.3.2->python-terrier) (2.4)\n",
      "Requirement already satisfied: six in /home/xiaoming/anaconda3/lib/python3.11/site-packages (from patsy>=0.5.2->statsmodels->python-terrier) (1.16.0)\n",
      "Collecting cbor>=1.0.0 (from trec-car-tools>=2.5.4->ir-datasets>=0.3.2->python-terrier)\n",
      "  Using cached cbor-1.0.0-py3-none-any.whl\n",
      "Using cached ir_datasets-0.5.5-py3-none-any.whl (318 kB)\n",
      "Using cached pyjnius-1.6.1-cp311-cp311-manylinux_2_17_x86_64.manylinux2014_x86_64.whl (1.6 MB)\n",
      "Using cached pytrec_eval_terrier-0.5.6-cp311-cp311-manylinux_2_17_x86_64.manylinux2014_x86_64.whl (287 kB)\n",
      "Using cached Deprecated-1.2.14-py2.py3-none-any.whl (9.6 kB)\n",
      "Using cached ijson-3.2.3-cp311-cp311-manylinux_2_17_x86_64.manylinux2014_x86_64.whl (116 kB)\n",
      "Using cached inscriptis-2.4.0.1-py3-none-any.whl (41 kB)\n",
      "Using cached pyautocorpus-0.1.12-cp311-cp311-manylinux_2_17_x86_64.manylinux2014_x86_64.whl (380 kB)\n",
      "Building wheels for collected packages: zlib-state\n",
      "  Building wheel for zlib-state (pyproject.toml) ... \u001b[?25lerror\n",
      "  \u001b[1;31merror\u001b[0m: \u001b[1msubprocess-exited-with-error\u001b[0m\n",
      "  \n",
      "  \u001b[31m×\u001b[0m \u001b[32mBuilding wheel for zlib-state \u001b[0m\u001b[1;32m(\u001b[0m\u001b[32mpyproject.toml\u001b[0m\u001b[1;32m)\u001b[0m did not run successfully.\n",
      "  \u001b[31m│\u001b[0m exit code: \u001b[1;36m1\u001b[0m\n",
      "  \u001b[31m╰─>\u001b[0m \u001b[31m[20 lines of output]\u001b[0m\n",
      "  \u001b[31m   \u001b[0m running bdist_wheel\n",
      "  \u001b[31m   \u001b[0m running build\n",
      "  \u001b[31m   \u001b[0m running build_py\n",
      "  \u001b[31m   \u001b[0m creating build\n",
      "  \u001b[31m   \u001b[0m creating build/lib.linux-x86_64-cpython-311\n",
      "  \u001b[31m   \u001b[0m creating build/lib.linux-x86_64-cpython-311/zlib_state\n",
      "  \u001b[31m   \u001b[0m copying zlib_state/__init__.py -> build/lib.linux-x86_64-cpython-311/zlib_state\n",
      "  \u001b[31m   \u001b[0m running egg_info\n",
      "  \u001b[31m   \u001b[0m writing zlib_state.egg-info/PKG-INFO\n",
      "  \u001b[31m   \u001b[0m writing dependency_links to zlib_state.egg-info/dependency_links.txt\n",
      "  \u001b[31m   \u001b[0m writing top-level names to zlib_state.egg-info/top_level.txt\n",
      "  \u001b[31m   \u001b[0m reading manifest file 'zlib_state.egg-info/SOURCES.txt'\n",
      "  \u001b[31m   \u001b[0m adding license file 'LICENSE'\n",
      "  \u001b[31m   \u001b[0m writing manifest file 'zlib_state.egg-info/SOURCES.txt'\n",
      "  \u001b[31m   \u001b[0m running build_ext\n",
      "  \u001b[31m   \u001b[0m building '_zlib_state' extension\n",
      "  \u001b[31m   \u001b[0m creating build/temp.linux-x86_64-cpython-311\n",
      "  \u001b[31m   \u001b[0m creating build/temp.linux-x86_64-cpython-311/src\n",
      "  \u001b[31m   \u001b[0m gcc -pthread -B /home/xiaoming/anaconda3/compiler_compat -DNDEBUG -fwrapv -O2 -Wall -fPIC -O2 -isystem /home/xiaoming/anaconda3/include -fPIC -O2 -isystem /home/xiaoming/anaconda3/include -fPIC -I/home/xiaoming/anaconda3/include/python3.11 -c src/zlib_state.c -o build/temp.linux-x86_64-cpython-311/src/zlib_state.o\n",
      "  \u001b[31m   \u001b[0m error: command 'gcc' failed: No such file or directory\n",
      "  \u001b[31m   \u001b[0m \u001b[31m[end of output]\u001b[0m\n",
      "  \n",
      "  \u001b[1;35mnote\u001b[0m: This error originates from a subprocess, and is likely not a problem with pip.\n",
      "\u001b[31m  ERROR: Failed building wheel for zlib-state\u001b[0m\u001b[31m\n",
      "\u001b[0m\u001b[?25hFailed to build zlib-state\n",
      "\u001b[31mERROR: Could not build wheels for zlib-state, which is required to install pyproject.toml-based projects\u001b[0m\u001b[31m\n",
      "\u001b[0mNote: you may need to restart the kernel to use updated packages.\n"
     ]
    }
   ],
   "source": [
    "%pip install python-terrier"
   ]
  },
  {
   "cell_type": "code",
   "execution_count": 2,
   "id": "e89aa149",
   "metadata": {},
   "outputs": [
    {
     "name": "stdout",
     "output_type": "stream",
     "text": [
      "Requirement already satisfied: nltk in /home/xiaoming/anaconda3/lib/python3.11/site-packages (3.8.1)\n",
      "Requirement already satisfied: click in /home/xiaoming/anaconda3/lib/python3.11/site-packages (from nltk) (8.0.4)\n",
      "Requirement already satisfied: joblib in /home/xiaoming/anaconda3/lib/python3.11/site-packages (from nltk) (1.2.0)\n",
      "Requirement already satisfied: regex>=2021.8.3 in /home/xiaoming/anaconda3/lib/python3.11/site-packages (from nltk) (2022.7.9)\n",
      "Requirement already satisfied: tqdm in /home/xiaoming/anaconda3/lib/python3.11/site-packages (from nltk) (4.65.0)\n",
      "Note: you may need to restart the kernel to use updated packages.\n"
     ]
    }
   ],
   "source": [
    "%pip install nltk"
   ]
  },
  {
   "cell_type": "code",
   "execution_count": 4,
   "id": "f6fb6989",
   "metadata": {},
   "outputs": [
    {
     "ename": "ModuleNotFoundError",
     "evalue": "No module named 'pyterrier'",
     "output_type": "error",
     "traceback": [
      "\u001b[0;31m---------------------------------------------------------------------------\u001b[0m",
      "\u001b[0;31mModuleNotFoundError\u001b[0m                       Traceback (most recent call last)",
      "Cell \u001b[0;32mIn[4], line 1\u001b[0m\n\u001b[0;32m----> 1\u001b[0m \u001b[38;5;28;01mimport\u001b[39;00m \u001b[38;5;21;01mpyterrier\u001b[39;00m \u001b[38;5;28;01mas\u001b[39;00m \u001b[38;5;21;01mpt\u001b[39;00m\n",
      "\u001b[0;31mModuleNotFoundError\u001b[0m: No module named 'pyterrier'"
     ]
    }
   ],
   "source": [
    "import pyterrier as pt"
   ]
  },
  {
   "cell_type": "code",
   "execution_count": null,
   "id": "084dde6d",
   "metadata": {},
   "outputs": [],
   "source": []
  }
 ],
 "metadata": {
  "kernelspec": {
   "display_name": "Python 3 (ipykernel)",
   "language": "python",
   "name": "python3"
  },
  "language_info": {
   "codemirror_mode": {
    "name": "ipython",
    "version": 3
   },
   "file_extension": ".py",
   "mimetype": "text/x-python",
   "name": "python",
   "nbconvert_exporter": "python",
   "pygments_lexer": "ipython3",
   "version": "3.11.5"
  }
 },
 "nbformat": 4,
 "nbformat_minor": 5
}
