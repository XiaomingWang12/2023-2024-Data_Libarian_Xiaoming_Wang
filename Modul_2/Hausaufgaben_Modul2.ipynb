{
 "cells": [
  {
   "cell_type": "code",
   "execution_count": null,
   "id": "a4feb807",
   "metadata": {},
   "outputs": [],
   "source": [
    "import json"
   ]
  },
  {
   "cell_type": "code",
   "execution_count": null,
   "id": "561df454",
   "metadata": {},
   "outputs": [],
   "source": [
    "import requests"
   ]
  },
  {
   "cell_type": "code",
   "execution_count": null,
   "id": "e0dc541b",
   "metadata": {},
   "outputs": [],
   "source": [
    "url = \"https://www.bibsonomy.org/json/search/orientalism?items=1000&duplicates=merge\""
   ]
  },
  {
   "cell_type": "code",
   "execution_count": null,
   "id": "34311873",
   "metadata": {},
   "outputs": [],
   "source": [
    "result = requests.get(url)"
   ]
  },
  {
   "cell_type": "code",
   "execution_count": null,
   "id": "58103b89",
   "metadata": {},
   "outputs": [],
   "source": [
    "data = result.json()"
   ]
  },
  {
   "cell_type": "code",
   "execution_count": null,
   "id": "c67ecb39",
   "metadata": {},
   "outputs": [],
   "source": [
    "data.keys()"
   ]
  },
  {
   "cell_type": "code",
   "execution_count": null,
   "id": "eb84241f",
   "metadata": {},
   "outputs": [],
   "source": [
    "import pandas as pd"
   ]
  },
  {
   "cell_type": "code",
   "execution_count": null,
   "id": "de3425a7",
   "metadata": {},
   "outputs": [],
   "source": [
    "type(data[\"items\"])"
   ]
  },
  {
   "cell_type": "code",
   "execution_count": null,
   "id": "24eef153",
   "metadata": {},
   "outputs": [],
   "source": [
    "df_bibsonomy = pd.DataFrame(data[\"items\"])"
   ]
  },
  {
   "cell_type": "code",
   "execution_count": null,
   "id": "8b436253",
   "metadata": {},
   "outputs": [],
   "source": [
    "df_bibsonomy"
   ]
  },
  {
   "cell_type": "code",
   "execution_count": null,
   "id": "633e7d32",
   "metadata": {},
   "outputs": [],
   "source": [
    "data1 = json.load(open(\"orientalism.json\"))"
   ]
  },
  {
   "cell_type": "code",
   "execution_count": null,
   "id": "aad9ec3f",
   "metadata": {},
   "outputs": [],
   "source": [
    "data2 = json.load(open(\"social_anthropology.json\"))"
   ]
  },
  {
   "cell_type": "code",
   "execution_count": null,
   "id": "ca3eb860",
   "metadata": {},
   "outputs": [],
   "source": [
    "df_search1 = pd.DataFrame(data1[\"items\"])"
   ]
  },
  {
   "cell_type": "code",
   "execution_count": null,
   "id": "cebd0498",
   "metadata": {},
   "outputs": [],
   "source": [
    "df_search2 = pd.DataFrame(data2[\"items\"])"
   ]
  },
  {
   "cell_type": "code",
   "execution_count": null,
   "id": "2323867c",
   "metadata": {},
   "outputs": [],
   "source": [
    "df_both = pd.concat([df_search1, df_search2])"
   ]
  },
  {
   "cell_type": "code",
   "execution_count": null,
   "id": "653bbdc2",
   "metadata": {},
   "outputs": [],
   "source": [
    "df_both"
   ]
  },
  {
   "cell_type": "code",
   "execution_count": null,
   "id": "a06f2e27",
   "metadata": {},
   "outputs": [],
   "source": [
    "type(df_both)"
   ]
  },
  {
   "cell_type": "code",
   "execution_count": null,
   "id": "c99aad5e",
   "metadata": {},
   "outputs": [],
   "source": [
    "df_both.to_json(r'orientalism_and_social_anthropology.json')"
   ]
  },
  {
   "cell_type": "code",
   "execution_count": null,
   "id": "44109b98",
   "metadata": {},
   "outputs": [],
   "source": [
    "df_both.reset_index(inplace=True)"
   ]
  },
  {
   "cell_type": "code",
   "execution_count": null,
   "id": "e12ba067",
   "metadata": {},
   "outputs": [],
   "source": [
    "df_both.to_json(r'orientalism_and_social_anthropology.json')"
   ]
  },
  {
   "cell_type": "code",
   "execution_count": null,
   "id": "993728b7",
   "metadata": {},
   "outputs": [],
   "source": [
    "df_both.columns"
   ]
  },
  {
   "cell_type": "code",
   "execution_count": null,
   "id": "ff1f3165",
   "metadata": {},
   "outputs": [],
   "source": [
    "df_both.year"
   ]
  },
  {
   "cell_type": "code",
   "execution_count": null,
   "id": "e50f38f6",
   "metadata": {},
   "outputs": [],
   "source": [
    "df_both.author"
   ]
  },
  {
   "cell_type": "code",
   "execution_count": null,
   "id": "f7b86b29",
   "metadata": {},
   "outputs": [],
   "source": [
    "df_both[[\"label\", \"author\", \"year\", \"type\", \"price\", \"pages_i\"]]"
   ]
  },
  {
   "cell_type": "code",
   "execution_count": null,
   "id": "0ef1599b",
   "metadata": {},
   "outputs": [],
   "source": [
    "df_both.columns"
   ]
  },
  {
   "cell_type": "code",
   "execution_count": null,
   "id": "58f290cc",
   "metadata": {},
   "outputs": [],
   "source": [
    "df_both.columns"
   ]
  },
  {
   "cell_type": "code",
   "execution_count": null,
   "id": "585ce3ca",
   "metadata": {},
   "outputs": [],
   "source": [
    "df_both_rename = df_both.rename(columns={ 'label': 'title' })"
   ]
  },
  {
   "cell_type": "code",
   "execution_count": null,
   "id": "c83eff2d",
   "metadata": {},
   "outputs": [],
   "source": [
    "df_both_rename.columns"
   ]
  },
  {
   "cell_type": "code",
   "execution_count": null,
   "id": "73759e04",
   "metadata": {},
   "outputs": [],
   "source": [
    "df_both_selection = df_both_rename[[\"type\", \"id\", \"tags\", \"intraHash\", \"author\", \"title\", \"year\", \"user\", \"description\", \"date\", \"changeDate\", \"count\", \"url\", \"price\"]]"
   ]
  },
  {
   "cell_type": "code",
   "execution_count": null,
   "id": "fcf9843e",
   "metadata": {},
   "outputs": [],
   "source": [
    "df_both_selection"
   ]
  },
  {
   "cell_type": "code",
   "execution_count": null,
   "id": "010ac9f9",
   "metadata": {},
   "outputs": [],
   "source": [
    "df_both_selection = df_both_selection.loc[df_both_selection[\"author\"].isnull() == False]"
   ]
  },
  {
   "cell_type": "code",
   "execution_count": null,
   "id": "7c2d7ca8",
   "metadata": {},
   "outputs": [],
   "source": [
    "df_both_selection"
   ]
  },
  {
   "cell_type": "code",
   "execution_count": null,
   "id": "51005192",
   "metadata": {},
   "outputs": [],
   "source": [
    "df_both_selection = df_both_selection.drop_duplicates(subset=['title'], keep='first')"
   ]
  },
  {
   "cell_type": "code",
   "execution_count": null,
   "id": "0f693ac8",
   "metadata": {},
   "outputs": [],
   "source": [
    "df_both_selection"
   ]
  },
  {
   "cell_type": "code",
   "execution_count": null,
   "id": "f7e374a8",
   "metadata": {},
   "outputs": [],
   "source": [
    "df_both_selection.loc[df_both_selection.type == \"Publication\"]"
   ]
  },
  {
   "cell_type": "code",
   "execution_count": null,
   "id": "0dcc08b6",
   "metadata": {},
   "outputs": [],
   "source": [
    "df_both_selection.loc[df_both_selection[\"year\"] > 2010]"
   ]
  },
  {
   "cell_type": "code",
   "execution_count": null,
   "id": "5d4f449e",
   "metadata": {},
   "outputs": [],
   "source": [
    "df_both_selection[\"year\"].unique()"
   ]
  },
  {
   "cell_type": "code",
   "execution_count": null,
   "id": "f422b2ea",
   "metadata": {},
   "outputs": [],
   "source": [
    "df_both_selection[\"year_correct\"] = df_both_selection.apply(lambda row: row.year.isdigit(), axis=1)"
   ]
  },
  {
   "cell_type": "code",
   "execution_count": null,
   "id": "dc31e2f6",
   "metadata": {},
   "outputs": [],
   "source": [
    "df_both_selection"
   ]
  },
  {
   "cell_type": "code",
   "execution_count": null,
   "id": "c46b660f",
   "metadata": {},
   "outputs": [],
   "source": [
    "df_both_selection.loc[df_both_selection.year_correct == False]"
   ]
  },
  {
   "cell_type": "code",
   "execution_count": null,
   "id": "f5eec4cd",
   "metadata": {},
   "outputs": [],
   "source": [
    "df_both_selection = df_both_selection.loc[df_both_selection.year_correct == True]"
   ]
  },
  {
   "cell_type": "code",
   "execution_count": null,
   "id": "f978cefc",
   "metadata": {},
   "outputs": [],
   "source": [
    "df_both_selection"
   ]
  },
  {
   "cell_type": "code",
   "execution_count": null,
   "id": "e739abf2",
   "metadata": {},
   "outputs": [],
   "source": [
    "df_both_selection[[\"author\", \"year\", \"title\"]]"
   ]
  },
  {
   "cell_type": "code",
   "execution_count": null,
   "id": "db0d362d",
   "metadata": {},
   "outputs": [],
   "source": [
    "df_both_selection.to_json(r'orientalism_and_social_anthropology.json')"
   ]
  },
  {
   "cell_type": "code",
   "execution_count": null,
   "id": "427e71ad",
   "metadata": {},
   "outputs": [],
   "source": [
    "df_both_selection.reset_index(inplace=True)"
   ]
  },
  {
   "cell_type": "code",
   "execution_count": null,
   "id": "8e8c03c4",
   "metadata": {},
   "outputs": [],
   "source": [
    "df_both_selection.to_json(r'orientalism_and_social_anthropology_new.json')"
   ]
  },
  {
   "cell_type": "code",
   "execution_count": null,
   "id": "ba205d9c",
   "metadata": {},
   "outputs": [],
   "source": []
  }
 ],
 "metadata": {
  "kernelspec": {
   "display_name": "Python 3 (ipykernel)",
   "language": "python",
   "name": "python3"
  },
  "language_info": {
   "codemirror_mode": {
    "name": "ipython",
    "version": 3
   },
   "file_extension": ".py",
   "mimetype": "text/x-python",
   "name": "python",
   "nbconvert_exporter": "python",
   "pygments_lexer": "ipython3",
   "version": "3.11.5"
  }
 },
 "nbformat": 4,
 "nbformat_minor": 5
}
