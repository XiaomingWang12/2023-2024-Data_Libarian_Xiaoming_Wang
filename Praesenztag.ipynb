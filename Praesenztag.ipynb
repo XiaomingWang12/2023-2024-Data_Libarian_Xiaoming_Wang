{
 "cells": [
  {
   "cell_type": "code",
   "execution_count": 8,
   "id": "4af98321-f429-40d8-902d-76fc38d649b0",
   "metadata": {},
   "outputs": [],
   "source": [
    "a = [1, 2, 3, 4]"
   ]
  },
  {
   "cell_type": "code",
   "execution_count": 9,
   "id": "e77c8bcd-630b-4905-b026-af9b44bdff88",
   "metadata": {},
   "outputs": [],
   "source": [
    "a.append(5)"
   ]
  },
  {
   "cell_type": "code",
   "execution_count": 10,
   "id": "9eae4cc9-a8ea-4fe8-8fa2-2a5f2a435071",
   "metadata": {},
   "outputs": [
    {
     "data": {
      "text/plain": [
       "[1, 2, 3, 4, 5]"
      ]
     },
     "execution_count": 10,
     "metadata": {},
     "output_type": "execute_result"
    }
   ],
   "source": [
    "a"
   ]
  },
  {
   "cell_type": "code",
   "execution_count": null,
   "id": "32ac61ca-8364-4307-9bfc-b037d283cd8d",
   "metadata": {},
   "outputs": [],
   "source": [
    "dataframe\n",
    "dataframes"
   ]
  },
  {
   "cell_type": "code",
   "execution_count": null,
   "id": "38daa975-db23-45d8-b698-8e99106752fd",
   "metadata": {},
   "outputs": [],
   "source": [
    "for q in queries:\n",
    "    df = df_from_query(q)\n",
    "    df[\"queries\""
   ]
  },
  {
   "cell_type": "code",
   "execution_count": null,
   "id": "48565819-b473-4697-9737-df2f5fc3e732",
   "metadata": {},
   "outputs": [],
   "source": [
    "###wie loc funktioniert\n",
    "\n",
    "auswahl = []\n",
    "\n",
    "for row in data.interrows():\n",
    "    if row[1][\"type\"] == \"Publication\":\n",
    "        auswahl.append(True)\n",
    "    else:\n",
    "        auswahl.append(False)"
   ]
  },
  {
   "cell_type": "code",
   "execution_count": null,
   "id": "73609e7c-dc16-4a14-8f4e-c0e297a76430",
   "metadata": {},
   "outputs": [],
   "source": []
  }
 ],
 "metadata": {
  "kernelspec": {
   "display_name": "Python 3 (ipykernel)",
   "language": "python",
   "name": "python3"
  },
  "language_info": {
   "codemirror_mode": {
    "name": "ipython",
    "version": 3
   },
   "file_extension": ".py",
   "mimetype": "text/x-python",
   "name": "python",
   "nbconvert_exporter": "python",
   "pygments_lexer": "ipython3",
   "version": "3.8.18"
  }
 },
 "nbformat": 4,
 "nbformat_minor": 5
}
