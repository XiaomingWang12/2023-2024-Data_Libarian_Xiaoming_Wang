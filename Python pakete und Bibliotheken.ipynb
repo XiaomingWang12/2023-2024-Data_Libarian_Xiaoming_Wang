{
 "cells": [
  {
   "cell_type": "code",
   "execution_count": 1,
   "id": "e671f297-3030-4aeb-a7ee-0c9d1abb7f5b",
   "metadata": {},
   "outputs": [],
   "source": [
    "import numpy as np"
   ]
  },
  {
   "cell_type": "code",
   "execution_count": 22,
   "id": "23b35b8d-80f6-4975-8dfe-c5b3292e4508",
   "metadata": {},
   "outputs": [],
   "source": [
    "X = np.random.normal(size=100)"
   ]
  },
  {
   "cell_type": "code",
   "execution_count": 24,
   "id": "58c949b1-dbd0-41ea-adc1-a1db31e22548",
   "metadata": {},
   "outputs": [
    {
     "data": {
      "text/plain": [
       "array([[-3.60773440e-01, -1.71280737e+00,  1.11308802e+00,\n",
       "        -2.56542619e-01, -1.04399358e-01],\n",
       "       [ 1.55267729e+00, -7.26652030e-01,  4.77838471e-01,\n",
       "        -1.92061726e-01,  3.89833283e-01],\n",
       "       [-4.64499477e-01, -6.58027605e-01, -1.34540455e+00,\n",
       "         1.63933996e+00,  1.83685468e-01],\n",
       "       [ 1.09780635e+00,  3.27324892e-02, -2.78029791e-01,\n",
       "         5.69213911e-01, -4.61845887e-01],\n",
       "       [ 1.12399550e+00, -1.31369760e-01,  1.33870597e+00,\n",
       "        -6.59828583e-01,  1.56513258e+00],\n",
       "       [-1.76155629e-01, -3.45224907e-01,  6.16224849e-01,\n",
       "         1.10745993e+00,  4.92196731e-01],\n",
       "       [ 1.26736552e+00, -1.09121763e+00, -3.20143031e-01,\n",
       "         1.29193873e+00,  7.27744602e-01],\n",
       "       [ 6.95715215e-01, -1.71683359e-01, -5.43396558e-01,\n",
       "        -9.43742539e-01,  1.66585396e-01],\n",
       "       [ 7.60689442e-01,  5.23263814e-01, -1.22882114e+00,\n",
       "        -9.13563116e-01, -1.34082059e+00],\n",
       "       [ 4.79953544e-01,  2.50699335e-01, -1.65083692e+00,\n",
       "         1.89376510e+00,  2.86352959e-01],\n",
       "       [ 1.26536744e+00,  3.21959096e-01, -9.47077676e-01,\n",
       "        -1.66276994e-01,  2.44405125e-01],\n",
       "       [-2.65408478e-02, -4.05572069e-01,  8.22403337e-01,\n",
       "         7.36875442e-01, -2.04573029e+00],\n",
       "       [ 6.68820043e-01,  9.44717299e-02, -5.71578320e-01,\n",
       "        -1.86835883e-01, -2.10286623e-01],\n",
       "       [-1.65248227e+00,  1.44844613e+00, -2.03193707e-01,\n",
       "        -1.38668671e+00, -1.32217124e+00],\n",
       "       [ 3.57795688e-01,  8.66337397e-02,  2.29109151e+00,\n",
       "        -6.04600713e-01, -1.10989945e+00],\n",
       "       [ 1.65277423e-03, -7.07456090e-01,  7.53892877e-01,\n",
       "         8.22403543e-01,  1.86006583e+00],\n",
       "       [-1.06094492e+00, -7.82027089e-01,  8.47168835e-01,\n",
       "         1.47553554e+00,  3.68628736e-01],\n",
       "       [-2.18062333e+00,  1.74603617e+00, -3.65901678e-03,\n",
       "         7.56245264e-01, -1.41353301e-01],\n",
       "       [-2.13822456e-01, -5.08210579e-01, -2.25558698e-01,\n",
       "        -1.89023098e-01, -8.86765865e-02],\n",
       "       [-8.65365555e-03,  1.51880086e+00, -7.07168557e-01,\n",
       "        -1.05695963e+00,  1.27419079e-01]])"
      ]
     },
     "execution_count": 24,
     "metadata": {},
     "output_type": "execute_result"
    }
   ],
   "source": [
    "X.reshape((20, 5))"
   ]
  },
  {
   "cell_type": "code",
   "execution_count": 25,
   "id": "ac5e9828-f566-4448-872b-5e65064c342f",
   "metadata": {},
   "outputs": [
    {
     "data": {
      "text/plain": [
       "88.55120258399373"
      ]
     },
     "execution_count": 25,
     "metadata": {},
     "output_type": "execute_result"
    }
   ],
   "source": [
    "X.dot(X.T)"
   ]
  },
  {
   "cell_type": "code",
   "execution_count": null,
   "id": "e52049cd-5bb1-4f7d-bd0d-afbd89cde82c",
   "metadata": {},
   "outputs": [],
   "source": [
    "###Panda"
   ]
  },
  {
   "cell_type": "code",
   "execution_count": 26,
   "id": "dcbde405-3aa1-4f15-8e1f-0e739726be87",
   "metadata": {},
   "outputs": [],
   "source": [
    "import pandas as pd"
   ]
  },
  {
   "cell_type": "code",
   "execution_count": 27,
   "id": "5c2be423-a25c-4107-84fe-141fad4c9700",
   "metadata": {},
   "outputs": [
    {
     "data": {
      "text/html": [
       "<div>\n",
       "<style scoped>\n",
       "    .dataframe tbody tr th:only-of-type {\n",
       "        vertical-align: middle;\n",
       "    }\n",
       "\n",
       "    .dataframe tbody tr th {\n",
       "        vertical-align: top;\n",
       "    }\n",
       "\n",
       "    .dataframe thead th {\n",
       "        text-align: right;\n",
       "    }\n",
       "</style>\n",
       "<table border=\"1\" class=\"dataframe\">\n",
       "  <thead>\n",
       "    <tr style=\"text-align: right;\">\n",
       "      <th></th>\n",
       "      <th>month</th>\n",
       "      <th>temperature</th>\n",
       "    </tr>\n",
       "  </thead>\n",
       "  <tbody>\n",
       "    <tr>\n",
       "      <th>count</th>\n",
       "      <td>3.0</td>\n",
       "      <td>3.000000</td>\n",
       "    </tr>\n",
       "    <tr>\n",
       "      <th>mean</th>\n",
       "      <td>2.0</td>\n",
       "      <td>0.000000</td>\n",
       "    </tr>\n",
       "    <tr>\n",
       "      <th>std</th>\n",
       "      <td>1.0</td>\n",
       "      <td>10.816654</td>\n",
       "    </tr>\n",
       "    <tr>\n",
       "      <th>min</th>\n",
       "      <td>1.0</td>\n",
       "      <td>-12.000000</td>\n",
       "    </tr>\n",
       "    <tr>\n",
       "      <th>25%</th>\n",
       "      <td>1.5</td>\n",
       "      <td>-4.500000</td>\n",
       "    </tr>\n",
       "    <tr>\n",
       "      <th>50%</th>\n",
       "      <td>2.0</td>\n",
       "      <td>3.000000</td>\n",
       "    </tr>\n",
       "    <tr>\n",
       "      <th>75%</th>\n",
       "      <td>2.5</td>\n",
       "      <td>6.000000</td>\n",
       "    </tr>\n",
       "    <tr>\n",
       "      <th>max</th>\n",
       "      <td>3.0</td>\n",
       "      <td>9.000000</td>\n",
       "    </tr>\n",
       "  </tbody>\n",
       "</table>\n",
       "</div>"
      ],
      "text/plain": [
       "       month  temperature\n",
       "count    3.0     3.000000\n",
       "mean     2.0     0.000000\n",
       "std      1.0    10.816654\n",
       "min      1.0   -12.000000\n",
       "25%      1.5    -4.500000\n",
       "50%      2.0     3.000000\n",
       "75%      2.5     6.000000\n",
       "max      3.0     9.000000"
      ]
     },
     "execution_count": 27,
     "metadata": {},
     "output_type": "execute_result"
    }
   ],
   "source": [
    "df = pd.DataFrame({\n",
    "    'month' : [1, 2, 3],\n",
    "    'temperature' : [-12, 3, 9]\n",
    "})\n",
    "df.describe()"
   ]
  },
  {
   "cell_type": "code",
   "execution_count": null,
   "id": "e6f80432-cee9-411d-993f-9f500bc9f51d",
   "metadata": {},
   "outputs": [],
   "source": []
  }
 ],
 "metadata": {
  "kernelspec": {
   "display_name": "Python 3 (ipykernel)",
   "language": "python",
   "name": "python3"
  },
  "language_info": {
   "codemirror_mode": {
    "name": "ipython",
    "version": 3
   },
   "file_extension": ".py",
   "mimetype": "text/x-python",
   "name": "python",
   "nbconvert_exporter": "python",
   "pygments_lexer": "ipython3",
   "version": "3.8.18"
  }
 },
 "nbformat": 4,
 "nbformat_minor": 5
}
