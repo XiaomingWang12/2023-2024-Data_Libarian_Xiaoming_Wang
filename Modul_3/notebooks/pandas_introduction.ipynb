{
 "cells": [
  {
   "cell_type": "code",
   "execution_count": 4,
   "id": "2139d23d-2712-40b0-9bb3-b13f40aeb2b9",
   "metadata": {},
   "outputs": [
    {
     "name": "stdout",
     "output_type": "stream",
     "text": [
      "  month  temp  below_zero  year\n",
      "0   Jan    -5        True  2020\n",
      "1   Feb     2       False  2020\n",
      "2   Mar     3       False  2020\n",
      "3   Apr     5       False  2020\n"
     ]
    }
   ],
   "source": [
    "import pandas as pd\n",
    "data = {'month':['Jan', 'Feb', 'Mar', 'Apr'],\n",
    "        'temp':[-5, 2, 3, 5],\n",
    "        'below_zero':[True, False, False, False],\n",
    "        'year':['2020', '2020', '2020', '2020']}\n",
    "df = pd.DataFrame(data)\n",
    "print(df)"
   ]
  },
  {
   "cell_type": "code",
   "execution_count": null,
   "id": "01590597-7e83-46b4-8b4b-1e1f7a5a9180",
   "metadata": {},
   "outputs": [],
   "source": []
  }
 ],
 "metadata": {
  "kernelspec": {
   "display_name": "Python 3 (ipykernel)",
   "language": "python",
   "name": "python3"
  },
  "language_info": {
   "codemirror_mode": {
    "name": "ipython",
    "version": 3
   },
   "file_extension": ".py",
   "mimetype": "text/x-python",
   "name": "python",
   "nbconvert_exporter": "python",
   "pygments_lexer": "ipython3",
   "version": "3.8.18"
  }
 },
 "nbformat": 4,
 "nbformat_minor": 5
}
