{
 "cells": [
  {
   "cell_type": "code",
   "execution_count": 7,
   "id": "da7563c7-cb51-4779-b5df-a340e1a3e4cc",
   "metadata": {},
   "outputs": [
    {
     "name": "stderr",
     "output_type": "stream",
     "text": [
      "/tmp/ipykernel_3222/1863246875.py:2: DtypeWarning: Columns (13) have mixed types. Specify dtype option on import or set low_memory=False.\n",
      "  df = pd.read_csv(\"../data/Library_Usage.csv\")\n"
     ]
    },
    {
     "data": {
      "text/plain": [
       "Age Range\n",
       "25 to 34 years       92669\n",
       "35 to 44 years       81719\n",
       "10 to 19 years       66857\n",
       "45 to 54 years       48319\n",
       "0 to 9 years         32692\n",
       "65 to 74 years       31714\n",
       "20 to 24 years       25381\n",
       "75 years and over    19297\n",
       "55 to 59 years       19076\n",
       "60 to 64 years       17654\n",
       "Name: count, dtype: int64"
      ]
     },
     "execution_count": 7,
     "metadata": {},
     "output_type": "execute_result"
    }
   ],
   "source": [
    "import pandas as pd\n",
    "df = pd.read_csv(\"../data/Library_Usage.csv\")\n",
    "df[\"Age Range\"].value_counts()"
   ]
  },
  {
   "cell_type": "code",
   "execution_count": 11,
   "id": "a5989e4c-4085-42ba-b0ec-06dbb3306096",
   "metadata": {},
   "outputs": [
    {
     "data": {
      "text/plain": [
       "28740"
      ]
     },
     "execution_count": 11,
     "metadata": {},
     "output_type": "execute_result"
    }
   ],
   "source": [
    "df[\"Provided Email Address\"][df[\"Age Range\"] == \"0 to 9 years\"].sum()"
   ]
  },
  {
   "cell_type": "code",
   "execution_count": 20,
   "id": "c932654f-4341-42e3-81a6-79d0ff18f608",
   "metadata": {},
   "outputs": [],
   "source": [
    "row_filter = [df[\"Age Range\"] == \"0 to 9 years\"]"
   ]
  },
  {
   "cell_type": "code",
   "execution_count": 22,
   "id": "0b9e6cce-d358-4cc5-bf1d-4ae5b13c3d0f",
   "metadata": {},
   "outputs": [
    {
     "data": {
      "text/plain": [
       "0.8791141563685305"
      ]
     },
     "execution_count": 22,
     "metadata": {},
     "output_type": "execute_result"
    }
   ],
   "source": [
    "28740/32692"
   ]
  },
  {
   "cell_type": "code",
   "execution_count": 24,
   "id": "d4b455a3-e0e8-4b3e-80ae-492e01448c25",
   "metadata": {},
   "outputs": [
    {
     "data": {
      "text/plain": [
       "0.6    19.0\n",
       "Name: Total Checkouts, dtype: float64"
      ]
     },
     "execution_count": 24,
     "metadata": {},
     "output_type": "execute_result"
    }
   ],
   "source": [
    "df[\"Total Checkouts\"].quantile(q=[0.60])"
   ]
  },
  {
   "cell_type": "code",
   "execution_count": 25,
   "id": "9b074c84-8034-4884-aab7-9c3272f269f3",
   "metadata": {},
   "outputs": [
    {
     "data": {
      "text/plain": [
       "0    25 to 34 years\n",
       "Name: Age Range, dtype: object"
      ]
     },
     "execution_count": 25,
     "metadata": {},
     "output_type": "execute_result"
    }
   ],
   "source": [
    "df[\"Age Range\"].mode()"
   ]
  },
  {
   "cell_type": "code",
   "execution_count": 26,
   "id": "4a08cd00-c894-4813-8d72-04da5ee67d34",
   "metadata": {},
   "outputs": [
    {
     "data": {
      "text/plain": [
       "35.0"
      ]
     },
     "execution_count": 26,
     "metadata": {},
     "output_type": "execute_result"
    }
   ],
   "source": [
    "df[\"Total Renewals\"].quantile(q=0.75) - df[\"Total Renewals\"].quantile(q=0.25)"
   ]
  },
  {
   "cell_type": "code",
   "execution_count": 27,
   "id": "f3bb5a02-f03f-47a7-8df4-f411d289629d",
   "metadata": {},
   "outputs": [
    {
     "data": {
      "text/plain": [
       "0.25     NaN\n",
       "0.75    35.0\n",
       "Name: Total Renewals, dtype: float64"
      ]
     },
     "execution_count": 27,
     "metadata": {},
     "output_type": "execute_result"
    }
   ],
   "source": [
    "df[\"Total Renewals\"].quantile([0.25, 0.75]).diff()"
   ]
  },
  {
   "cell_type": "code",
   "execution_count": null,
   "id": "eeaa4a24-9d07-484e-bdef-db956c8fd1a3",
   "metadata": {},
   "outputs": [],
   "source": []
  }
 ],
 "metadata": {
  "kernelspec": {
   "display_name": "Python 3 (ipykernel)",
   "language": "python",
   "name": "python3"
  },
  "language_info": {
   "codemirror_mode": {
    "name": "ipython",
    "version": 3
   },
   "file_extension": ".py",
   "mimetype": "text/x-python",
   "name": "python",
   "nbconvert_exporter": "python",
   "pygments_lexer": "ipython3",
   "version": "3.8.18"
  }
 },
 "nbformat": 4,
 "nbformat_minor": 5
}
