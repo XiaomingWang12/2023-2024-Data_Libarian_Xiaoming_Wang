{
 "cells": [
  {
   "cell_type": "code",
   "execution_count": 2,
   "id": "1a5e9c36-cc36-4dce-9d00-370a767e7091",
   "metadata": {},
   "outputs": [
    {
     "name": "stderr",
     "output_type": "stream",
     "text": [
      "/tmp/ipykernel_12424/499847895.py:2: DtypeWarning: Columns (13) have mixed types. Specify dtype option on import or set low_memory=False.\n",
      "  df = pd.read_csv(\"data/Library_Usage.csv\")\n"
     ]
    },
    {
     "data": {
      "text/plain": [
       "289361.88526816876"
      ]
     },
     "execution_count": 2,
     "metadata": {},
     "output_type": "execute_result"
    }
   ],
   "source": [
    "import pandas as pd\n",
    "df = pd.read_csv(\"data/Library_Usage.csv\")\n",
    "df[\"Total Checkouts\"].var()"
   ]
  },
  {
   "cell_type": "code",
   "execution_count": 3,
   "id": "d61e2266-6d6f-47b9-81bf-262c7c2d04a8",
   "metadata": {},
   "outputs": [
    {
     "data": {
      "text/plain": [
       "537.9236797801049"
      ]
     },
     "execution_count": 3,
     "metadata": {},
     "output_type": "execute_result"
    }
   ],
   "source": [
    "df[\"Total Checkouts\"].std()"
   ]
  },
  {
   "cell_type": "code",
   "execution_count": 4,
   "id": "25557dae-f1de-4634-9731-7b75eafbe704",
   "metadata": {},
   "outputs": [
    {
     "data": {
      "text/plain": [
       "92724.17769573169"
      ]
     },
     "execution_count": 4,
     "metadata": {},
     "output_type": "execute_result"
    }
   ],
   "source": [
    "df[\"Total Renewals\"].var()"
   ]
  },
  {
   "cell_type": "code",
   "execution_count": 5,
   "id": "4c6c9d90-158f-4708-9d4f-b79b1e4c04d3",
   "metadata": {},
   "outputs": [
    {
     "data": {
      "text/plain": [
       "304.5064493499796"
      ]
     },
     "execution_count": 5,
     "metadata": {},
     "output_type": "execute_result"
    }
   ],
   "source": [
    "df[\"Total Renewals\"].std()"
   ]
  },
  {
   "cell_type": "code",
   "execution_count": 6,
   "id": "8c382bb9-dddc-47ac-b931-4391a42b65b0",
   "metadata": {},
   "outputs": [
    {
     "data": {
      "text/plain": [
       "3.355838965971548"
      ]
     },
     "execution_count": 6,
     "metadata": {},
     "output_type": "execute_result"
    }
   ],
   "source": [
    "df[\"Total Checkouts\"].std()/df[\"Total Checkouts\"].mean()"
   ]
  },
  {
   "cell_type": "code",
   "execution_count": 7,
   "id": "e1b5ee10-a42c-4667-a344-ad312bdb38e0",
   "metadata": {},
   "outputs": [
    {
     "data": {
      "text/plain": [
       "3.8881000004302892"
      ]
     },
     "execution_count": 7,
     "metadata": {},
     "output_type": "execute_result"
    }
   ],
   "source": [
    "df[\"Total Renewals\"].std()/df[\"Total Renewals\"].mean()"
   ]
  },
  {
   "cell_type": "code",
   "execution_count": 8,
   "id": "a4bc2176-ce46-4a46-a843-a4cf6c7b3733",
   "metadata": {},
   "outputs": [
    {
     "data": {
      "text/plain": [
       "45380"
      ]
     },
     "execution_count": 8,
     "metadata": {},
     "output_type": "execute_result"
    }
   ],
   "source": [
    "###Spannweite\n",
    "df[\"Total Checkouts\"].max() - df[\"Total Checkouts\"].min()"
   ]
  },
  {
   "cell_type": "code",
   "execution_count": 9,
   "id": "2186c3fb-489e-431a-a055-6adcdeea6151",
   "metadata": {},
   "outputs": [
    {
     "data": {
      "text/plain": [
       "78.0"
      ]
     },
     "execution_count": 9,
     "metadata": {},
     "output_type": "execute_result"
    }
   ],
   "source": [
    "###Interquartilabstand\n",
    "df[\"Total Checkouts\"].quantile(q=0.75) - df[\"Total Checkouts\"].quantile(q=0.25)"
   ]
  },
  {
   "cell_type": "code",
   "execution_count": null,
   "id": "948b067d-2a48-4ab3-a195-9c2b08f107d3",
   "metadata": {},
   "outputs": [],
   "source": []
  }
 ],
 "metadata": {
  "kernelspec": {
   "display_name": "Python 3 (ipykernel)",
   "language": "python",
   "name": "python3"
  },
  "language_info": {
   "codemirror_mode": {
    "name": "ipython",
    "version": 3
   },
   "file_extension": ".py",
   "mimetype": "text/x-python",
   "name": "python",
   "nbconvert_exporter": "python",
   "pygments_lexer": "ipython3",
   "version": "3.8.18"
  }
 },
 "nbformat": 4,
 "nbformat_minor": 5
}
