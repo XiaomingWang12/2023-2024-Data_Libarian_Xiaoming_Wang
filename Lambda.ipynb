{
 "cells": [
  {
   "cell_type": "markdown",
   "id": "52018a1f",
   "metadata": {},
   "source": [
    "## lambda erzeugt anyonyme Funktionen"
   ]
  },
  {
   "cell_type": "code",
   "execution_count": 3,
   "id": "790197b1",
   "metadata": {},
   "outputs": [
    {
     "name": "stdout",
     "output_type": "stream",
     "text": [
      "['False', 'None', 'True', 'and', 'as', 'assert', 'async', 'await', 'break', 'class', 'continue', 'def', 'del', 'elif', 'else', 'except', 'finally', 'for', 'from', 'global', 'if', 'import', 'in', 'is', 'lambda', 'nonlocal', 'not', 'or', 'pass', 'raise', 'return', 'try', 'while', 'with', 'yield']\n"
     ]
    }
   ],
   "source": [
    "import keyword\n",
    "print(keyword.kwlist)"
   ]
  },
  {
   "cell_type": "code",
   "execution_count": 4,
   "id": "87ddccb8",
   "metadata": {},
   "outputs": [],
   "source": [
    "def my_upper(string):\n",
    "    return string.upper()"
   ]
  },
  {
   "cell_type": "code",
   "execution_count": 5,
   "id": "34164dbe",
   "metadata": {},
   "outputs": [
    {
     "data": {
      "text/plain": [
       "'blub'"
      ]
     },
     "execution_count": 5,
     "metadata": {},
     "output_type": "execute_result"
    }
   ],
   "source": [
    "\"blub\""
   ]
  },
  {
   "cell_type": "code",
   "execution_count": 6,
   "id": "9293987e",
   "metadata": {},
   "outputs": [
    {
     "data": {
      "text/plain": [
       "'BLUB'"
      ]
     },
     "execution_count": 6,
     "metadata": {},
     "output_type": "execute_result"
    }
   ],
   "source": [
    "my_upper(\"blub\")"
   ]
  },
  {
   "cell_type": "code",
   "execution_count": null,
   "id": "6df5b877",
   "metadata": {},
   "outputs": [],
   "source": []
  }
 ],
 "metadata": {
  "kernelspec": {
   "display_name": "Python 3 (ipykernel)",
   "language": "python",
   "name": "python3"
  },
  "language_info": {
   "codemirror_mode": {
    "name": "ipython",
    "version": 3
   },
   "file_extension": ".py",
   "mimetype": "text/x-python",
   "name": "python",
   "nbconvert_exporter": "python",
   "pygments_lexer": "ipython3",
   "version": "3.11.5"
  }
 },
 "nbformat": 4,
 "nbformat_minor": 5
}
