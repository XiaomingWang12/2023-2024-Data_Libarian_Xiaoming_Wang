{
 "cells": [
  {
   "cell_type": "code",
   "execution_count": 8,
   "id": "10c1466b",
   "metadata": {},
   "outputs": [],
   "source": [
    "import pandas as pd"
   ]
  },
  {
   "cell_type": "code",
   "execution_count": 9,
   "id": "120e576c",
   "metadata": {},
   "outputs": [],
   "source": [
    "doi_df_journal = pd.DataFrame({\n",
    "    \"DOI\": [\n",
    "        \"10.1371/journal.pcbi.1004668\",\n",
    "        \"10.21105/joss.01035\",\n",
    "        \"10.12688/f1000research.18866.2\",\n",
    "        \"10.1038/s41598-019-52881-4\",\n",
    "        \"10.1186/s12859-019-3171-0\"],\n",
    "    \"journal\": [\n",
    "        \"PLoS Comput Biol\",\n",
    "        \"JOSS\",\n",
    "        \"F1000Res\",\n",
    "        \"Sci Rep\",\n",
    "        \"BMC Bioinformatics\"]})\n",
    "\n",
    "doi_df_first_author = pd.DataFrame({\n",
    "    \"DOI\": [\n",
    "        \"10.1371/journal.pcbi.1004668\",\n",
    "        \"10.21105/joss.01035\",\n",
    "        \"10.21105/joss.01006\",\n",
    "        \"10.12688/f1000research.18866.2\",\n",
    "        \"10.1186/s12859-019-3171-0\"],\n",
    "    \"first_author\": [\n",
    "        \"Blischak\",\n",
    "        \"Sparks\",\n",
    "        \"Granger\",\n",
    "        \"Thang\",\n",
    "        \"Chen\"]})"
   ]
  },
  {
   "cell_type": "code",
   "execution_count": 10,
   "id": "aca2f995",
   "metadata": {},
   "outputs": [
    {
     "data": {
      "text/html": [
       "<div>\n",
       "<style scoped>\n",
       "    .dataframe tbody tr th:only-of-type {\n",
       "        vertical-align: middle;\n",
       "    }\n",
       "\n",
       "    .dataframe tbody tr th {\n",
       "        vertical-align: top;\n",
       "    }\n",
       "\n",
       "    .dataframe thead th {\n",
       "        text-align: right;\n",
       "    }\n",
       "</style>\n",
       "<table border=\"1\" class=\"dataframe\">\n",
       "  <thead>\n",
       "    <tr style=\"text-align: right;\">\n",
       "      <th></th>\n",
       "      <th>DOI</th>\n",
       "      <th>first_author</th>\n",
       "    </tr>\n",
       "  </thead>\n",
       "  <tbody>\n",
       "    <tr>\n",
       "      <th>0</th>\n",
       "      <td>10.1371/journal.pcbi.1004668</td>\n",
       "      <td>Blischak</td>\n",
       "    </tr>\n",
       "    <tr>\n",
       "      <th>1</th>\n",
       "      <td>10.21105/joss.01035</td>\n",
       "      <td>Sparks</td>\n",
       "    </tr>\n",
       "    <tr>\n",
       "      <th>2</th>\n",
       "      <td>10.21105/joss.01006</td>\n",
       "      <td>Granger</td>\n",
       "    </tr>\n",
       "    <tr>\n",
       "      <th>3</th>\n",
       "      <td>10.12688/f1000research.18866.2</td>\n",
       "      <td>Thang</td>\n",
       "    </tr>\n",
       "    <tr>\n",
       "      <th>4</th>\n",
       "      <td>10.1186/s12859-019-3171-0</td>\n",
       "      <td>Chen</td>\n",
       "    </tr>\n",
       "  </tbody>\n",
       "</table>\n",
       "</div>"
      ],
      "text/plain": [
       "                              DOI first_author\n",
       "0    10.1371/journal.pcbi.1004668     Blischak\n",
       "1             10.21105/joss.01035       Sparks\n",
       "2             10.21105/joss.01006      Granger\n",
       "3  10.12688/f1000research.18866.2        Thang\n",
       "4       10.1186/s12859-019-3171-0         Chen"
      ]
     },
     "execution_count": 10,
     "metadata": {},
     "output_type": "execute_result"
    }
   ],
   "source": [
    "doi_df_first_author"
   ]
  },
  {
   "cell_type": "code",
   "execution_count": 11,
   "id": "b9b72608",
   "metadata": {},
   "outputs": [
    {
     "data": {
      "text/html": [
       "<div>\n",
       "<style scoped>\n",
       "    .dataframe tbody tr th:only-of-type {\n",
       "        vertical-align: middle;\n",
       "    }\n",
       "\n",
       "    .dataframe tbody tr th {\n",
       "        vertical-align: top;\n",
       "    }\n",
       "\n",
       "    .dataframe thead th {\n",
       "        text-align: right;\n",
       "    }\n",
       "</style>\n",
       "<table border=\"1\" class=\"dataframe\">\n",
       "  <thead>\n",
       "    <tr style=\"text-align: right;\">\n",
       "      <th></th>\n",
       "      <th>DOI</th>\n",
       "      <th>journal</th>\n",
       "    </tr>\n",
       "  </thead>\n",
       "  <tbody>\n",
       "    <tr>\n",
       "      <th>0</th>\n",
       "      <td>10.1371/journal.pcbi.1004668</td>\n",
       "      <td>PLoS Comput Biol</td>\n",
       "    </tr>\n",
       "    <tr>\n",
       "      <th>1</th>\n",
       "      <td>10.21105/joss.01035</td>\n",
       "      <td>JOSS</td>\n",
       "    </tr>\n",
       "    <tr>\n",
       "      <th>2</th>\n",
       "      <td>10.12688/f1000research.18866.2</td>\n",
       "      <td>F1000Res</td>\n",
       "    </tr>\n",
       "    <tr>\n",
       "      <th>3</th>\n",
       "      <td>10.1038/s41598-019-52881-4</td>\n",
       "      <td>Sci Rep</td>\n",
       "    </tr>\n",
       "    <tr>\n",
       "      <th>4</th>\n",
       "      <td>10.1186/s12859-019-3171-0</td>\n",
       "      <td>BMC Bioinformatics</td>\n",
       "    </tr>\n",
       "  </tbody>\n",
       "</table>\n",
       "</div>"
      ],
      "text/plain": [
       "                              DOI             journal\n",
       "0    10.1371/journal.pcbi.1004668    PLoS Comput Biol\n",
       "1             10.21105/joss.01035                JOSS\n",
       "2  10.12688/f1000research.18866.2            F1000Res\n",
       "3      10.1038/s41598-019-52881-4             Sci Rep\n",
       "4       10.1186/s12859-019-3171-0  BMC Bioinformatics"
      ]
     },
     "execution_count": 11,
     "metadata": {},
     "output_type": "execute_result"
    }
   ],
   "source": [
    "doi_df_journal"
   ]
  },
  {
   "cell_type": "code",
   "execution_count": 12,
   "id": "1433793f",
   "metadata": {},
   "outputs": [
    {
     "data": {
      "text/html": [
       "<div>\n",
       "<style scoped>\n",
       "    .dataframe tbody tr th:only-of-type {\n",
       "        vertical-align: middle;\n",
       "    }\n",
       "\n",
       "    .dataframe tbody tr th {\n",
       "        vertical-align: top;\n",
       "    }\n",
       "\n",
       "    .dataframe thead th {\n",
       "        text-align: right;\n",
       "    }\n",
       "</style>\n",
       "<table border=\"1\" class=\"dataframe\">\n",
       "  <thead>\n",
       "    <tr style=\"text-align: right;\">\n",
       "      <th></th>\n",
       "      <th>DOI</th>\n",
       "      <th>first_author</th>\n",
       "      <th>journal</th>\n",
       "    </tr>\n",
       "  </thead>\n",
       "  <tbody>\n",
       "    <tr>\n",
       "      <th>0</th>\n",
       "      <td>10.1371/journal.pcbi.1004668</td>\n",
       "      <td>Blischak</td>\n",
       "      <td>PLoS Comput Biol</td>\n",
       "    </tr>\n",
       "    <tr>\n",
       "      <th>1</th>\n",
       "      <td>10.21105/joss.01035</td>\n",
       "      <td>Sparks</td>\n",
       "      <td>JOSS</td>\n",
       "    </tr>\n",
       "    <tr>\n",
       "      <th>2</th>\n",
       "      <td>10.12688/f1000research.18866.2</td>\n",
       "      <td>Thang</td>\n",
       "      <td>F1000Res</td>\n",
       "    </tr>\n",
       "    <tr>\n",
       "      <th>3</th>\n",
       "      <td>10.1186/s12859-019-3171-0</td>\n",
       "      <td>Chen</td>\n",
       "      <td>BMC Bioinformatics</td>\n",
       "    </tr>\n",
       "  </tbody>\n",
       "</table>\n",
       "</div>"
      ],
      "text/plain": [
       "                              DOI first_author             journal\n",
       "0    10.1371/journal.pcbi.1004668     Blischak    PLoS Comput Biol\n",
       "1             10.21105/joss.01035       Sparks                JOSS\n",
       "2  10.12688/f1000research.18866.2        Thang            F1000Res\n",
       "3       10.1186/s12859-019-3171-0         Chen  BMC Bioinformatics"
      ]
     },
     "execution_count": 12,
     "metadata": {},
     "output_type": "execute_result"
    }
   ],
   "source": [
    "doi_df_first_author.merge(doi_df_journal, on=\"DOI\")"
   ]
  },
  {
   "cell_type": "markdown",
   "id": "491a71e1",
   "metadata": {},
   "source": [
    "## Inner join (merge)"
   ]
  },
  {
   "cell_type": "code",
   "execution_count": 13,
   "id": "cdb6352e",
   "metadata": {},
   "outputs": [
    {
     "data": {
      "text/html": [
       "<div>\n",
       "<style scoped>\n",
       "    .dataframe tbody tr th:only-of-type {\n",
       "        vertical-align: middle;\n",
       "    }\n",
       "\n",
       "    .dataframe tbody tr th {\n",
       "        vertical-align: top;\n",
       "    }\n",
       "\n",
       "    .dataframe thead th {\n",
       "        text-align: right;\n",
       "    }\n",
       "</style>\n",
       "<table border=\"1\" class=\"dataframe\">\n",
       "  <thead>\n",
       "    <tr style=\"text-align: right;\">\n",
       "      <th></th>\n",
       "      <th>DOI</th>\n",
       "      <th>first_author</th>\n",
       "      <th>journal</th>\n",
       "    </tr>\n",
       "  </thead>\n",
       "  <tbody>\n",
       "    <tr>\n",
       "      <th>0</th>\n",
       "      <td>10.1371/journal.pcbi.1004668</td>\n",
       "      <td>Blischak</td>\n",
       "      <td>PLoS Comput Biol</td>\n",
       "    </tr>\n",
       "    <tr>\n",
       "      <th>1</th>\n",
       "      <td>10.21105/joss.01035</td>\n",
       "      <td>Sparks</td>\n",
       "      <td>JOSS</td>\n",
       "    </tr>\n",
       "    <tr>\n",
       "      <th>2</th>\n",
       "      <td>10.12688/f1000research.18866.2</td>\n",
       "      <td>Thang</td>\n",
       "      <td>F1000Res</td>\n",
       "    </tr>\n",
       "    <tr>\n",
       "      <th>3</th>\n",
       "      <td>10.1186/s12859-019-3171-0</td>\n",
       "      <td>Chen</td>\n",
       "      <td>BMC Bioinformatics</td>\n",
       "    </tr>\n",
       "  </tbody>\n",
       "</table>\n",
       "</div>"
      ],
      "text/plain": [
       "                              DOI first_author             journal\n",
       "0    10.1371/journal.pcbi.1004668     Blischak    PLoS Comput Biol\n",
       "1             10.21105/joss.01035       Sparks                JOSS\n",
       "2  10.12688/f1000research.18866.2        Thang            F1000Res\n",
       "3       10.1186/s12859-019-3171-0         Chen  BMC Bioinformatics"
      ]
     },
     "execution_count": 13,
     "metadata": {},
     "output_type": "execute_result"
    }
   ],
   "source": [
    "doi_df_first_author.merge(doi_df_journal, on=\"DOI\")"
   ]
  },
  {
   "cell_type": "markdown",
   "id": "10be3aee",
   "metadata": {},
   "source": [
    "## Left join (merge)"
   ]
  },
  {
   "cell_type": "code",
   "execution_count": 14,
   "id": "ff5662ff",
   "metadata": {},
   "outputs": [
    {
     "data": {
      "text/html": [
       "<div>\n",
       "<style scoped>\n",
       "    .dataframe tbody tr th:only-of-type {\n",
       "        vertical-align: middle;\n",
       "    }\n",
       "\n",
       "    .dataframe tbody tr th {\n",
       "        vertical-align: top;\n",
       "    }\n",
       "\n",
       "    .dataframe thead th {\n",
       "        text-align: right;\n",
       "    }\n",
       "</style>\n",
       "<table border=\"1\" class=\"dataframe\">\n",
       "  <thead>\n",
       "    <tr style=\"text-align: right;\">\n",
       "      <th></th>\n",
       "      <th>DOI</th>\n",
       "      <th>first_author</th>\n",
       "      <th>journal</th>\n",
       "    </tr>\n",
       "  </thead>\n",
       "  <tbody>\n",
       "    <tr>\n",
       "      <th>0</th>\n",
       "      <td>10.1371/journal.pcbi.1004668</td>\n",
       "      <td>Blischak</td>\n",
       "      <td>PLoS Comput Biol</td>\n",
       "    </tr>\n",
       "    <tr>\n",
       "      <th>1</th>\n",
       "      <td>10.21105/joss.01035</td>\n",
       "      <td>Sparks</td>\n",
       "      <td>JOSS</td>\n",
       "    </tr>\n",
       "    <tr>\n",
       "      <th>2</th>\n",
       "      <td>10.21105/joss.01006</td>\n",
       "      <td>Granger</td>\n",
       "      <td>NaN</td>\n",
       "    </tr>\n",
       "    <tr>\n",
       "      <th>3</th>\n",
       "      <td>10.12688/f1000research.18866.2</td>\n",
       "      <td>Thang</td>\n",
       "      <td>F1000Res</td>\n",
       "    </tr>\n",
       "    <tr>\n",
       "      <th>4</th>\n",
       "      <td>10.1186/s12859-019-3171-0</td>\n",
       "      <td>Chen</td>\n",
       "      <td>BMC Bioinformatics</td>\n",
       "    </tr>\n",
       "  </tbody>\n",
       "</table>\n",
       "</div>"
      ],
      "text/plain": [
       "                              DOI first_author             journal\n",
       "0    10.1371/journal.pcbi.1004668     Blischak    PLoS Comput Biol\n",
       "1             10.21105/joss.01035       Sparks                JOSS\n",
       "2             10.21105/joss.01006      Granger                 NaN\n",
       "3  10.12688/f1000research.18866.2        Thang            F1000Res\n",
       "4       10.1186/s12859-019-3171-0         Chen  BMC Bioinformatics"
      ]
     },
     "execution_count": 14,
     "metadata": {},
     "output_type": "execute_result"
    }
   ],
   "source": [
    "doi_df_first_author.merge(doi_df_journal, on=\"DOI\", how=\"left\")"
   ]
  },
  {
   "cell_type": "markdown",
   "id": "620865b4",
   "metadata": {},
   "source": [
    "## Right join (merge)"
   ]
  },
  {
   "cell_type": "code",
   "execution_count": 15,
   "id": "d6d2018f",
   "metadata": {},
   "outputs": [
    {
     "data": {
      "text/html": [
       "<div>\n",
       "<style scoped>\n",
       "    .dataframe tbody tr th:only-of-type {\n",
       "        vertical-align: middle;\n",
       "    }\n",
       "\n",
       "    .dataframe tbody tr th {\n",
       "        vertical-align: top;\n",
       "    }\n",
       "\n",
       "    .dataframe thead th {\n",
       "        text-align: right;\n",
       "    }\n",
       "</style>\n",
       "<table border=\"1\" class=\"dataframe\">\n",
       "  <thead>\n",
       "    <tr style=\"text-align: right;\">\n",
       "      <th></th>\n",
       "      <th>DOI</th>\n",
       "      <th>first_author</th>\n",
       "      <th>journal</th>\n",
       "    </tr>\n",
       "  </thead>\n",
       "  <tbody>\n",
       "    <tr>\n",
       "      <th>0</th>\n",
       "      <td>10.1371/journal.pcbi.1004668</td>\n",
       "      <td>Blischak</td>\n",
       "      <td>PLoS Comput Biol</td>\n",
       "    </tr>\n",
       "    <tr>\n",
       "      <th>1</th>\n",
       "      <td>10.21105/joss.01035</td>\n",
       "      <td>Sparks</td>\n",
       "      <td>JOSS</td>\n",
       "    </tr>\n",
       "    <tr>\n",
       "      <th>2</th>\n",
       "      <td>10.12688/f1000research.18866.2</td>\n",
       "      <td>Thang</td>\n",
       "      <td>F1000Res</td>\n",
       "    </tr>\n",
       "    <tr>\n",
       "      <th>3</th>\n",
       "      <td>10.1038/s41598-019-52881-4</td>\n",
       "      <td>NaN</td>\n",
       "      <td>Sci Rep</td>\n",
       "    </tr>\n",
       "    <tr>\n",
       "      <th>4</th>\n",
       "      <td>10.1186/s12859-019-3171-0</td>\n",
       "      <td>Chen</td>\n",
       "      <td>BMC Bioinformatics</td>\n",
       "    </tr>\n",
       "  </tbody>\n",
       "</table>\n",
       "</div>"
      ],
      "text/plain": [
       "                              DOI first_author             journal\n",
       "0    10.1371/journal.pcbi.1004668     Blischak    PLoS Comput Biol\n",
       "1             10.21105/joss.01035       Sparks                JOSS\n",
       "2  10.12688/f1000research.18866.2        Thang            F1000Res\n",
       "3      10.1038/s41598-019-52881-4          NaN             Sci Rep\n",
       "4       10.1186/s12859-019-3171-0         Chen  BMC Bioinformatics"
      ]
     },
     "execution_count": 15,
     "metadata": {},
     "output_type": "execute_result"
    }
   ],
   "source": [
    "doi_df_first_author.merge(doi_df_journal, on=\"DOI\", how=\"right\")"
   ]
  },
  {
   "cell_type": "markdown",
   "id": "37e1c7ff",
   "metadata": {},
   "source": [
    "## Outer join (merge)"
   ]
  },
  {
   "cell_type": "code",
   "execution_count": 16,
   "id": "9044bd4a",
   "metadata": {},
   "outputs": [
    {
     "data": {
      "text/html": [
       "<div>\n",
       "<style scoped>\n",
       "    .dataframe tbody tr th:only-of-type {\n",
       "        vertical-align: middle;\n",
       "    }\n",
       "\n",
       "    .dataframe tbody tr th {\n",
       "        vertical-align: top;\n",
       "    }\n",
       "\n",
       "    .dataframe thead th {\n",
       "        text-align: right;\n",
       "    }\n",
       "</style>\n",
       "<table border=\"1\" class=\"dataframe\">\n",
       "  <thead>\n",
       "    <tr style=\"text-align: right;\">\n",
       "      <th></th>\n",
       "      <th>DOI</th>\n",
       "      <th>first_author</th>\n",
       "      <th>journal</th>\n",
       "    </tr>\n",
       "  </thead>\n",
       "  <tbody>\n",
       "    <tr>\n",
       "      <th>0</th>\n",
       "      <td>10.1371/journal.pcbi.1004668</td>\n",
       "      <td>Blischak</td>\n",
       "      <td>PLoS Comput Biol</td>\n",
       "    </tr>\n",
       "    <tr>\n",
       "      <th>1</th>\n",
       "      <td>10.21105/joss.01035</td>\n",
       "      <td>Sparks</td>\n",
       "      <td>JOSS</td>\n",
       "    </tr>\n",
       "    <tr>\n",
       "      <th>2</th>\n",
       "      <td>10.21105/joss.01006</td>\n",
       "      <td>Granger</td>\n",
       "      <td>NaN</td>\n",
       "    </tr>\n",
       "    <tr>\n",
       "      <th>3</th>\n",
       "      <td>10.12688/f1000research.18866.2</td>\n",
       "      <td>Thang</td>\n",
       "      <td>F1000Res</td>\n",
       "    </tr>\n",
       "    <tr>\n",
       "      <th>4</th>\n",
       "      <td>10.1186/s12859-019-3171-0</td>\n",
       "      <td>Chen</td>\n",
       "      <td>BMC Bioinformatics</td>\n",
       "    </tr>\n",
       "    <tr>\n",
       "      <th>5</th>\n",
       "      <td>10.1038/s41598-019-52881-4</td>\n",
       "      <td>NaN</td>\n",
       "      <td>Sci Rep</td>\n",
       "    </tr>\n",
       "  </tbody>\n",
       "</table>\n",
       "</div>"
      ],
      "text/plain": [
       "                              DOI first_author             journal\n",
       "0    10.1371/journal.pcbi.1004668     Blischak    PLoS Comput Biol\n",
       "1             10.21105/joss.01035       Sparks                JOSS\n",
       "2             10.21105/joss.01006      Granger                 NaN\n",
       "3  10.12688/f1000research.18866.2        Thang            F1000Res\n",
       "4       10.1186/s12859-019-3171-0         Chen  BMC Bioinformatics\n",
       "5      10.1038/s41598-019-52881-4          NaN             Sci Rep"
      ]
     },
     "execution_count": 16,
     "metadata": {},
     "output_type": "execute_result"
    }
   ],
   "source": [
    "doi_df_first_author.merge(doi_df_journal, on=\"DOI\", how=\"outer\")"
   ]
  },
  {
   "cell_type": "markdown",
   "id": "ad49dcc0",
   "metadata": {},
   "source": [
    "## When auf Spalten mit verschiedenen Namen gemergt werden"
   ]
  },
  {
   "cell_type": "code",
   "execution_count": 19,
   "id": "ac124410",
   "metadata": {},
   "outputs": [],
   "source": [
    "doi_df_journal = pd.DataFrame({\n",
    "    \"DOI\": [\n",
    "        \"10.1371/journal.pcbi.1004668\",\n",
    "        \"10.21105/joss.01035\",\n",
    "        \"10.12688/f1000research.18866.2\",\n",
    "        \"10.1038/s41598-019-52881-4\",\n",
    "        \"10.1186/s12859-019-3171-0\"],\n",
    "    \"journal\": [\n",
    "        \"PLoS Comput Biol\",\n",
    "        \"JOSS\",\n",
    "        \"F1000Res\",\n",
    "        \"Sci Rep\",\n",
    "        \"BMC Bioinformatics\"]})\n",
    "\n",
    "doi_df_first_author = pd.DataFrame({\n",
    "    \"article_doi\": [\n",
    "        \"10.1371/journal.pcbi.1004668\",\n",
    "        \"10.21105/joss.01035\",\n",
    "        \"10.21105/joss.01006\",\n",
    "        \"10.12688/f1000research.18866.2\",\n",
    "        \"10.1186/s12859-019-3171-0\"],\n",
    "    \"first_author\": [\n",
    "        \"Blischak\",\n",
    "        \"Sparks\",\n",
    "        \"Granger\",\n",
    "        \"Thang\",\n",
    "        \"Chen\"]})"
   ]
  },
  {
   "cell_type": "code",
   "execution_count": 20,
   "id": "c1e5c305",
   "metadata": {},
   "outputs": [
    {
     "data": {
      "text/html": [
       "<div>\n",
       "<style scoped>\n",
       "    .dataframe tbody tr th:only-of-type {\n",
       "        vertical-align: middle;\n",
       "    }\n",
       "\n",
       "    .dataframe tbody tr th {\n",
       "        vertical-align: top;\n",
       "    }\n",
       "\n",
       "    .dataframe thead th {\n",
       "        text-align: right;\n",
       "    }\n",
       "</style>\n",
       "<table border=\"1\" class=\"dataframe\">\n",
       "  <thead>\n",
       "    <tr style=\"text-align: right;\">\n",
       "      <th></th>\n",
       "      <th>article_doi</th>\n",
       "      <th>first_author</th>\n",
       "      <th>DOI</th>\n",
       "      <th>journal</th>\n",
       "    </tr>\n",
       "  </thead>\n",
       "  <tbody>\n",
       "    <tr>\n",
       "      <th>0</th>\n",
       "      <td>10.1371/journal.pcbi.1004668</td>\n",
       "      <td>Blischak</td>\n",
       "      <td>10.1371/journal.pcbi.1004668</td>\n",
       "      <td>PLoS Comput Biol</td>\n",
       "    </tr>\n",
       "    <tr>\n",
       "      <th>1</th>\n",
       "      <td>10.21105/joss.01035</td>\n",
       "      <td>Sparks</td>\n",
       "      <td>10.21105/joss.01035</td>\n",
       "      <td>JOSS</td>\n",
       "    </tr>\n",
       "    <tr>\n",
       "      <th>2</th>\n",
       "      <td>10.12688/f1000research.18866.2</td>\n",
       "      <td>Thang</td>\n",
       "      <td>10.12688/f1000research.18866.2</td>\n",
       "      <td>F1000Res</td>\n",
       "    </tr>\n",
       "    <tr>\n",
       "      <th>3</th>\n",
       "      <td>10.1186/s12859-019-3171-0</td>\n",
       "      <td>Chen</td>\n",
       "      <td>10.1186/s12859-019-3171-0</td>\n",
       "      <td>BMC Bioinformatics</td>\n",
       "    </tr>\n",
       "  </tbody>\n",
       "</table>\n",
       "</div>"
      ],
      "text/plain": [
       "                      article_doi first_author  \\\n",
       "0    10.1371/journal.pcbi.1004668     Blischak   \n",
       "1             10.21105/joss.01035       Sparks   \n",
       "2  10.12688/f1000research.18866.2        Thang   \n",
       "3       10.1186/s12859-019-3171-0         Chen   \n",
       "\n",
       "                              DOI             journal  \n",
       "0    10.1371/journal.pcbi.1004668    PLoS Comput Biol  \n",
       "1             10.21105/joss.01035                JOSS  \n",
       "2  10.12688/f1000research.18866.2            F1000Res  \n",
       "3       10.1186/s12859-019-3171-0  BMC Bioinformatics  "
      ]
     },
     "execution_count": 20,
     "metadata": {},
     "output_type": "execute_result"
    }
   ],
   "source": [
    "doi_df_first_author.merge(doi_df_journal, left_on=\"article_doi\", right_on=\"DOI\", how=\"inner\")"
   ]
  },
  {
   "cell_type": "markdown",
   "id": "764fba5c",
   "metadata": {},
   "source": [
    "## Apply"
   ]
  },
  {
   "cell_type": "code",
   "execution_count": 21,
   "id": "6d285e24",
   "metadata": {},
   "outputs": [],
   "source": [
    "doi_df_first_author_2 = pd.DataFrame({\n",
    "    \"DOIs\": [\n",
    "        \"10.1371/journal.pcbi.1004668\",\n",
    "        \"10.21105/joss.01035\",\n",
    "        \"10.21105/joss.01006\",\n",
    "        \"10.12688/f1000research.18866.2\",\n",
    "        \"10.1186/s12859-019-3171-0\"],\n",
    "    \"first_author\": [\n",
    "        \"Blischak J.\",\n",
    "        \"Sparks Adam H.\",\n",
    "        \"Granger Nicolas\",\n",
    "        \"Thang\",\n",
    "        \"Chen Danze\"]})"
   ]
  },
  {
   "cell_type": "code",
   "execution_count": 23,
   "id": "833b88cb",
   "metadata": {},
   "outputs": [
    {
     "data": {
      "text/html": [
       "<div>\n",
       "<style scoped>\n",
       "    .dataframe tbody tr th:only-of-type {\n",
       "        vertical-align: middle;\n",
       "    }\n",
       "\n",
       "    .dataframe tbody tr th {\n",
       "        vertical-align: top;\n",
       "    }\n",
       "\n",
       "    .dataframe thead th {\n",
       "        text-align: right;\n",
       "    }\n",
       "</style>\n",
       "<table border=\"1\" class=\"dataframe\">\n",
       "  <thead>\n",
       "    <tr style=\"text-align: right;\">\n",
       "      <th></th>\n",
       "      <th>DOIs</th>\n",
       "      <th>first_author</th>\n",
       "    </tr>\n",
       "  </thead>\n",
       "  <tbody>\n",
       "    <tr>\n",
       "      <th>0</th>\n",
       "      <td>10.1371/journal.pcbi.1004668</td>\n",
       "      <td>Blischak J.</td>\n",
       "    </tr>\n",
       "    <tr>\n",
       "      <th>1</th>\n",
       "      <td>10.21105/joss.01035</td>\n",
       "      <td>Sparks Adam H.</td>\n",
       "    </tr>\n",
       "    <tr>\n",
       "      <th>2</th>\n",
       "      <td>10.21105/joss.01006</td>\n",
       "      <td>Granger Nicolas</td>\n",
       "    </tr>\n",
       "    <tr>\n",
       "      <th>3</th>\n",
       "      <td>10.12688/f1000research.18866.2</td>\n",
       "      <td>Thang</td>\n",
       "    </tr>\n",
       "    <tr>\n",
       "      <th>4</th>\n",
       "      <td>10.1186/s12859-019-3171-0</td>\n",
       "      <td>Chen Danze</td>\n",
       "    </tr>\n",
       "  </tbody>\n",
       "</table>\n",
       "</div>"
      ],
      "text/plain": [
       "                             DOIs     first_author\n",
       "0    10.1371/journal.pcbi.1004668      Blischak J.\n",
       "1             10.21105/joss.01035   Sparks Adam H.\n",
       "2             10.21105/joss.01006  Granger Nicolas\n",
       "3  10.12688/f1000research.18866.2            Thang\n",
       "4       10.1186/s12859-019-3171-0       Chen Danze"
      ]
     },
     "execution_count": 23,
     "metadata": {},
     "output_type": "execute_result"
    }
   ],
   "source": [
    "doi_df_first_author_2"
   ]
  },
  {
   "cell_type": "code",
   "execution_count": 25,
   "id": "35132f55",
   "metadata": {},
   "outputs": [
    {
     "data": {
      "text/plain": [
       "['Rosalind', 'Franklin']"
      ]
     },
     "execution_count": 25,
     "metadata": {},
     "output_type": "execute_result"
    }
   ],
   "source": [
    "\"Rosalind Franklin\".split(\" \")"
   ]
  },
  {
   "cell_type": "code",
   "execution_count": 26,
   "id": "d1124889",
   "metadata": {},
   "outputs": [
    {
     "data": {
      "text/plain": [
       "'Rosalind'"
      ]
     },
     "execution_count": 26,
     "metadata": {},
     "output_type": "execute_result"
    }
   ],
   "source": [
    "\"Rosalind Franklin\".split(\" \")[0]"
   ]
  },
  {
   "cell_type": "code",
   "execution_count": 27,
   "id": "7f3ba5c1",
   "metadata": {},
   "outputs": [
    {
     "data": {
      "text/plain": [
       "'Franklin'"
      ]
     },
     "execution_count": 27,
     "metadata": {},
     "output_type": "execute_result"
    }
   ],
   "source": [
    "\"Rosalind Franklin\".split(\" \")[1]"
   ]
  },
  {
   "cell_type": "code",
   "execution_count": 28,
   "id": "606f40cc",
   "metadata": {},
   "outputs": [
    {
     "data": {
      "text/plain": [
       "0    Blischak\n",
       "1      Sparks\n",
       "2     Granger\n",
       "3       Thang\n",
       "4        Chen\n",
       "Name: first_author, dtype: object"
      ]
     },
     "execution_count": 28,
     "metadata": {},
     "output_type": "execute_result"
    }
   ],
   "source": [
    "doi_df_first_author_2[\"first_author\"].apply(\n",
    "    lambda author: author.split(\" \")[0])"
   ]
  },
  {
   "cell_type": "code",
   "execution_count": 33,
   "id": "8e0159b1",
   "metadata": {},
   "outputs": [
    {
     "ename": "IndentationError",
     "evalue": "unexpected indent (627362689.py, line 2)",
     "output_type": "error",
     "traceback": [
      "\u001b[0;36m  Cell \u001b[0;32mIn[33], line 2\u001b[0;36m\u001b[0m\n\u001b[0;31m    lambda author: author.split(\" \")[0])\u001b[0m\n\u001b[0m    ^\u001b[0m\n\u001b[0;31mIndentationError\u001b[0m\u001b[0;31m:\u001b[0m unexpected indent\n"
     ]
    }
   ],
   "source": [
    "doi_df_first_author_2[\"last_name\"]. = doi_df_first_author_2[\"first_author\"]\n",
    "    lambda author: author.split(\" \")[0])"
   ]
  },
  {
   "cell_type": "code",
   "execution_count": 40,
   "id": "1e4d6621",
   "metadata": {},
   "outputs": [
    {
     "data": {
      "text/plain": [
       "0         J.\n",
       "1    Adam H.\n",
       "2    Nicolas\n",
       "3           \n",
       "4      Danze\n",
       "Name: first_author, dtype: object"
      ]
     },
     "execution_count": 40,
     "metadata": {},
     "output_type": "execute_result"
    }
   ],
   "source": [
    "doi_df_first_author_2[\"first_author\"].apply(\n",
    "    lambda author: \" \".join(author.split(\" \")[1:]))"
   ]
  },
  {
   "cell_type": "code",
   "execution_count": 36,
   "id": "3b3b941e",
   "metadata": {},
   "outputs": [
    {
     "data": {
      "text/plain": [
       "['Adam', 'H.']"
      ]
     },
     "execution_count": 36,
     "metadata": {},
     "output_type": "execute_result"
    }
   ],
   "source": [
    "\"Sparks Adam H.\".split(\" \")[1:]"
   ]
  },
  {
   "cell_type": "code",
   "execution_count": 38,
   "id": "827b9d73",
   "metadata": {},
   "outputs": [
    {
     "data": {
      "text/plain": [
       "'Adam H.'"
      ]
     },
     "execution_count": 38,
     "metadata": {},
     "output_type": "execute_result"
    }
   ],
   "source": [
    "\" \".join(['Adam', 'H.'])"
   ]
  },
  {
   "cell_type": "code",
   "execution_count": 41,
   "id": "a748630b",
   "metadata": {},
   "outputs": [],
   "source": [
    "doi_df_first_author_2[\"first_name\"] = doi_df_first_author_2[\"first_author\"].apply(\n",
    "    lambda author: \" \".join(author.split(\" \")[1:]))"
   ]
  },
  {
   "cell_type": "code",
   "execution_count": 44,
   "id": "c89d0405",
   "metadata": {},
   "outputs": [
    {
     "data": {
      "text/html": [
       "<div>\n",
       "<style scoped>\n",
       "    .dataframe tbody tr th:only-of-type {\n",
       "        vertical-align: middle;\n",
       "    }\n",
       "\n",
       "    .dataframe tbody tr th {\n",
       "        vertical-align: top;\n",
       "    }\n",
       "\n",
       "    .dataframe thead th {\n",
       "        text-align: right;\n",
       "    }\n",
       "</style>\n",
       "<table border=\"1\" class=\"dataframe\">\n",
       "  <thead>\n",
       "    <tr style=\"text-align: right;\">\n",
       "      <th></th>\n",
       "      <th>DOIs</th>\n",
       "      <th>first_author</th>\n",
       "      <th>first_name</th>\n",
       "    </tr>\n",
       "  </thead>\n",
       "  <tbody>\n",
       "    <tr>\n",
       "      <th>0</th>\n",
       "      <td>10.1371/journal.pcbi.1004668</td>\n",
       "      <td>Blischak J.</td>\n",
       "      <td>J.</td>\n",
       "    </tr>\n",
       "    <tr>\n",
       "      <th>1</th>\n",
       "      <td>10.21105/joss.01035</td>\n",
       "      <td>Sparks Adam H.</td>\n",
       "      <td>Adam H.</td>\n",
       "    </tr>\n",
       "    <tr>\n",
       "      <th>2</th>\n",
       "      <td>10.21105/joss.01006</td>\n",
       "      <td>Granger Nicolas</td>\n",
       "      <td>Nicolas</td>\n",
       "    </tr>\n",
       "    <tr>\n",
       "      <th>3</th>\n",
       "      <td>10.12688/f1000research.18866.2</td>\n",
       "      <td>Thang</td>\n",
       "      <td></td>\n",
       "    </tr>\n",
       "    <tr>\n",
       "      <th>4</th>\n",
       "      <td>10.1186/s12859-019-3171-0</td>\n",
       "      <td>Chen Danze</td>\n",
       "      <td>Danze</td>\n",
       "    </tr>\n",
       "  </tbody>\n",
       "</table>\n",
       "</div>"
      ],
      "text/plain": [
       "                             DOIs     first_author first_name\n",
       "0    10.1371/journal.pcbi.1004668      Blischak J.         J.\n",
       "1             10.21105/joss.01035   Sparks Adam H.    Adam H.\n",
       "2             10.21105/joss.01006  Granger Nicolas    Nicolas\n",
       "3  10.12688/f1000research.18866.2            Thang           \n",
       "4       10.1186/s12859-019-3171-0       Chen Danze      Danze"
      ]
     },
     "execution_count": 44,
     "metadata": {},
     "output_type": "execute_result"
    }
   ],
   "source": [
    "doi_df_first_author_2"
   ]
  },
  {
   "cell_type": "code",
   "execution_count": 45,
   "id": "50d5a558",
   "metadata": {},
   "outputs": [],
   "source": [
    "del doi_df_first_author_2[\"first_author\"] "
   ]
  },
  {
   "cell_type": "code",
   "execution_count": 46,
   "id": "a6741749",
   "metadata": {},
   "outputs": [
    {
     "data": {
      "text/html": [
       "<div>\n",
       "<style scoped>\n",
       "    .dataframe tbody tr th:only-of-type {\n",
       "        vertical-align: middle;\n",
       "    }\n",
       "\n",
       "    .dataframe tbody tr th {\n",
       "        vertical-align: top;\n",
       "    }\n",
       "\n",
       "    .dataframe thead th {\n",
       "        text-align: right;\n",
       "    }\n",
       "</style>\n",
       "<table border=\"1\" class=\"dataframe\">\n",
       "  <thead>\n",
       "    <tr style=\"text-align: right;\">\n",
       "      <th></th>\n",
       "      <th>DOIs</th>\n",
       "      <th>first_author</th>\n",
       "    </tr>\n",
       "  </thead>\n",
       "  <tbody>\n",
       "    <tr>\n",
       "      <th>0</th>\n",
       "      <td>10.1371/journal.pcbi.1004668</td>\n",
       "      <td>Blischak J.</td>\n",
       "    </tr>\n",
       "    <tr>\n",
       "      <th>1</th>\n",
       "      <td>10.21105/joss.01035</td>\n",
       "      <td>Sparks Adam H.</td>\n",
       "    </tr>\n",
       "    <tr>\n",
       "      <th>2</th>\n",
       "      <td>10.21105/joss.01006</td>\n",
       "      <td>Granger Nicolas</td>\n",
       "    </tr>\n",
       "    <tr>\n",
       "      <th>3</th>\n",
       "      <td>10.12688/f1000research.18866.2</td>\n",
       "      <td>Thang</td>\n",
       "    </tr>\n",
       "    <tr>\n",
       "      <th>4</th>\n",
       "      <td>10.1186/s12859-019-3171-0</td>\n",
       "      <td>Chen Danze</td>\n",
       "    </tr>\n",
       "  </tbody>\n",
       "</table>\n",
       "</div>"
      ],
      "text/plain": [
       "                             DOIs     first_author\n",
       "0    10.1371/journal.pcbi.1004668      Blischak J.\n",
       "1             10.21105/joss.01035   Sparks Adam H.\n",
       "2             10.21105/joss.01006  Granger Nicolas\n",
       "3  10.12688/f1000research.18866.2            Thang\n",
       "4       10.1186/s12859-019-3171-0       Chen Danze"
      ]
     },
     "execution_count": 46,
     "metadata": {},
     "output_type": "execute_result"
    }
   ],
   "source": [
    "doi_df_first_author_2"
   ]
  },
  {
   "cell_type": "code",
   "execution_count": 48,
   "id": "03cf9add",
   "metadata": {},
   "outputs": [],
   "source": [
    "doi_df_first_author_2.to_csv(\"doi_last_and_first_name.csv\")"
   ]
  },
  {
   "cell_type": "code",
   "execution_count": 5,
   "id": "974f86d4",
   "metadata": {},
   "outputs": [
    {
     "ename": "NameError",
     "evalue": "name 'doi_df_first_author_2' is not defined",
     "output_type": "error",
     "traceback": [
      "\u001b[0;31m---------------------------------------------------------------------------\u001b[0m",
      "\u001b[0;31mNameError\u001b[0m                                 Traceback (most recent call last)",
      "Cell \u001b[0;32mIn[5], line 2\u001b[0m\n\u001b[1;32m      1\u001b[0m \u001b[38;5;28;01mdef\u001b[39;00m \u001b[38;5;21mclean_string\u001b[39m(author_string): \u001b[38;5;28;01mreturn\u001b[39;00m \u001b[38;5;124m\"\u001b[39m\u001b[38;5;124m \u001b[39m\u001b[38;5;124m\"\u001b[39m\u001b[38;5;241m.\u001b[39mjoin(author_string\u001b[38;5;241m.\u001b[39msplit(\u001b[38;5;124m\"\u001b[39m\u001b[38;5;124m \u001b[39m\u001b[38;5;124m\"\u001b[39m)[\u001b[38;5;241m1\u001b[39m])\n\u001b[0;32m----> 2\u001b[0m doi_df_first_author_2[\u001b[38;5;124m\"\u001b[39m\u001b[38;5;124mfirst_author\u001b[39m\u001b[38;5;124m\"\u001b[39m]\u001b[38;5;241m.\u001b[39mapply(clean_string)\n",
      "\u001b[0;31mNameError\u001b[0m: name 'doi_df_first_author_2' is not defined"
     ]
    }
   ],
   "source": [
    "def clean_string(author_string): return \" \".join(author_string.split(\" \")[1])\n",
    "doi_df_first_author_2[\"first_author\"].apply(clean_string)"
   ]
  },
  {
   "cell_type": "code",
   "execution_count": null,
   "id": "ca5590f1",
   "metadata": {},
   "outputs": [],
   "source": []
  },
  {
   "cell_type": "code",
   "execution_count": null,
   "id": "ece1513d",
   "metadata": {},
   "outputs": [],
   "source": []
  }
 ],
 "metadata": {
  "kernelspec": {
   "display_name": "Python 3 (ipykernel)",
   "language": "python",
   "name": "python3"
  },
  "language_info": {
   "codemirror_mode": {
    "name": "ipython",
    "version": 3
   },
   "file_extension": ".py",
   "mimetype": "text/x-python",
   "name": "python",
   "nbconvert_exporter": "python",
   "pygments_lexer": "ipython3",
   "version": "3.11.5"
  }
 },
 "nbformat": 4,
 "nbformat_minor": 5
}
