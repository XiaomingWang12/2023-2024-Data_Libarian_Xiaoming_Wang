{
 "cells": [
  {
   "cell_type": "markdown",
   "id": "dcb492ab",
   "metadata": {},
   "source": [
    "# Python Einführung\n",
    "- So schreibe ich **fett**\n",
    "- So schreibe ich _kursiv_ *kursiv*"
   ]
  },
  {
   "cell_type": "code",
   "execution_count": 2,
   "id": "1817e5fd",
   "metadata": {},
   "outputs": [
    {
     "name": "stdout",
     "output_type": "stream",
     "text": [
      "Hallo zusammen\n"
     ]
    }
   ],
   "source": [
    "print(\"Hallo zusammen\")"
   ]
  },
  {
   "cell_type": "markdown",
   "id": "369256c6",
   "metadata": {},
   "source": [
    "# Einfache Datentypen"
   ]
  },
  {
   "cell_type": "code",
   "execution_count": 6,
   "id": "46310ab6",
   "metadata": {},
   "outputs": [],
   "source": [
    "# Variable mit Wertezuweisung\n",
    "name = \"Lovelace\""
   ]
  },
  {
   "cell_type": "code",
   "execution_count": 4,
   "id": "d95e9003",
   "metadata": {},
   "outputs": [
    {
     "data": {
      "text/plain": [
       "'Lovelace'"
      ]
     },
     "execution_count": 4,
     "metadata": {},
     "output_type": "execute_result"
    }
   ],
   "source": [
    "name"
   ]
  },
  {
   "cell_type": "code",
   "execution_count": 5,
   "id": "f3c5cdf5",
   "metadata": {},
   "outputs": [
    {
     "name": "stdout",
     "output_type": "stream",
     "text": [
      "Lovelace\n"
     ]
    }
   ],
   "source": [
    "print(name)"
   ]
  },
  {
   "cell_type": "code",
   "execution_count": null,
   "id": "4c6537d5",
   "metadata": {},
   "outputs": [],
   "source": []
  }
 ],
 "metadata": {
  "kernelspec": {
   "display_name": "Python 3 (ipykernel)",
   "language": "python",
   "name": "python3"
  },
  "language_info": {
   "codemirror_mode": {
    "name": "ipython",
    "version": 3
   },
   "file_extension": ".py",
   "mimetype": "text/x-python",
   "name": "python",
   "nbconvert_exporter": "python",
   "pygments_lexer": "ipython3",
   "version": "3.11.5"
  }
 },
 "nbformat": 4,
 "nbformat_minor": 5
}
